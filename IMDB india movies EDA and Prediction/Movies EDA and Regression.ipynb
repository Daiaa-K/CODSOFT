{
 "cells": [
  {
   "cell_type": "code",
   "execution_count": 346,
   "id": "c1bcba77",
   "metadata": {
    "ExecuteTime": {
     "end_time": "2024-06-19T02:18:12.139734Z",
     "start_time": "2024-06-19T02:18:12.134931Z"
    }
   },
   "outputs": [],
   "source": [
    "import pandas as pd \n",
    "import numpy as np \n",
    "import matplotlib.pyplot as plt\n",
    "import seaborn as sns\n",
    "import warnings\n",
    "sns.set_theme(palette=sns.color_palette(\"Set2\"),style=\"darkgrid\")"
   ]
  },
  {
   "cell_type": "code",
   "execution_count": 347,
   "id": "e424b1c6",
   "metadata": {
    "ExecuteTime": {
     "end_time": "2024-06-19T02:18:12.185154Z",
     "start_time": "2024-06-19T02:18:12.141766Z"
    }
   },
   "outputs": [],
   "source": [
    "data = pd.read_csv(\"IMDb Movies India.csv\",encoding='latin-1')"
   ]
  },
  {
   "cell_type": "code",
   "execution_count": 348,
   "id": "af54ef6f",
   "metadata": {
    "ExecuteTime": {
     "end_time": "2024-06-19T02:18:12.197473Z",
     "start_time": "2024-06-19T02:18:12.187162Z"
    }
   },
   "outputs": [
    {
     "data": {
      "text/html": [
       "<div>\n",
       "<style scoped>\n",
       "    .dataframe tbody tr th:only-of-type {\n",
       "        vertical-align: middle;\n",
       "    }\n",
       "\n",
       "    .dataframe tbody tr th {\n",
       "        vertical-align: top;\n",
       "    }\n",
       "\n",
       "    .dataframe thead th {\n",
       "        text-align: right;\n",
       "    }\n",
       "</style>\n",
       "<table border=\"1\" class=\"dataframe\">\n",
       "  <thead>\n",
       "    <tr style=\"text-align: right;\">\n",
       "      <th></th>\n",
       "      <th>Name</th>\n",
       "      <th>Year</th>\n",
       "      <th>Duration</th>\n",
       "      <th>Genre</th>\n",
       "      <th>Rating</th>\n",
       "      <th>Votes</th>\n",
       "      <th>Director</th>\n",
       "      <th>Actor 1</th>\n",
       "      <th>Actor 2</th>\n",
       "      <th>Actor 3</th>\n",
       "    </tr>\n",
       "  </thead>\n",
       "  <tbody>\n",
       "    <tr>\n",
       "      <th>0</th>\n",
       "      <td></td>\n",
       "      <td>NaN</td>\n",
       "      <td>NaN</td>\n",
       "      <td>Drama</td>\n",
       "      <td>NaN</td>\n",
       "      <td>NaN</td>\n",
       "      <td>J.S. Randhawa</td>\n",
       "      <td>Manmauji</td>\n",
       "      <td>Birbal</td>\n",
       "      <td>Rajendra Bhatia</td>\n",
       "    </tr>\n",
       "    <tr>\n",
       "      <th>1</th>\n",
       "      <td>#Gadhvi (He thought he was Gandhi)</td>\n",
       "      <td>(2019)</td>\n",
       "      <td>109 min</td>\n",
       "      <td>Drama</td>\n",
       "      <td>7.0</td>\n",
       "      <td>8</td>\n",
       "      <td>Gaurav Bakshi</td>\n",
       "      <td>Rasika Dugal</td>\n",
       "      <td>Vivek Ghamande</td>\n",
       "      <td>Arvind Jangid</td>\n",
       "    </tr>\n",
       "    <tr>\n",
       "      <th>2</th>\n",
       "      <td>#Homecoming</td>\n",
       "      <td>(2021)</td>\n",
       "      <td>90 min</td>\n",
       "      <td>Drama, Musical</td>\n",
       "      <td>NaN</td>\n",
       "      <td>NaN</td>\n",
       "      <td>Soumyajit Majumdar</td>\n",
       "      <td>Sayani Gupta</td>\n",
       "      <td>Plabita Borthakur</td>\n",
       "      <td>Roy Angana</td>\n",
       "    </tr>\n",
       "    <tr>\n",
       "      <th>3</th>\n",
       "      <td>#Yaaram</td>\n",
       "      <td>(2019)</td>\n",
       "      <td>110 min</td>\n",
       "      <td>Comedy, Romance</td>\n",
       "      <td>4.4</td>\n",
       "      <td>35</td>\n",
       "      <td>Ovais Khan</td>\n",
       "      <td>Prateik</td>\n",
       "      <td>Ishita Raj</td>\n",
       "      <td>Siddhant Kapoor</td>\n",
       "    </tr>\n",
       "    <tr>\n",
       "      <th>4</th>\n",
       "      <td>...And Once Again</td>\n",
       "      <td>(2010)</td>\n",
       "      <td>105 min</td>\n",
       "      <td>Drama</td>\n",
       "      <td>NaN</td>\n",
       "      <td>NaN</td>\n",
       "      <td>Amol Palekar</td>\n",
       "      <td>Rajat Kapoor</td>\n",
       "      <td>Rituparna Sengupta</td>\n",
       "      <td>Antara Mali</td>\n",
       "    </tr>\n",
       "    <tr>\n",
       "      <th>5</th>\n",
       "      <td>...Aur Pyaar Ho Gaya</td>\n",
       "      <td>(1997)</td>\n",
       "      <td>147 min</td>\n",
       "      <td>Comedy, Drama, Musical</td>\n",
       "      <td>4.7</td>\n",
       "      <td>827</td>\n",
       "      <td>Rahul Rawail</td>\n",
       "      <td>Bobby Deol</td>\n",
       "      <td>Aishwarya Rai Bachchan</td>\n",
       "      <td>Shammi Kapoor</td>\n",
       "    </tr>\n",
       "    <tr>\n",
       "      <th>6</th>\n",
       "      <td>...Yahaan</td>\n",
       "      <td>(2005)</td>\n",
       "      <td>142 min</td>\n",
       "      <td>Drama, Romance, War</td>\n",
       "      <td>7.4</td>\n",
       "      <td>1,086</td>\n",
       "      <td>Shoojit Sircar</td>\n",
       "      <td>Jimmy Sheirgill</td>\n",
       "      <td>Minissha Lamba</td>\n",
       "      <td>Yashpal Sharma</td>\n",
       "    </tr>\n",
       "    <tr>\n",
       "      <th>7</th>\n",
       "      <td>.in for Motion</td>\n",
       "      <td>(2008)</td>\n",
       "      <td>59 min</td>\n",
       "      <td>Documentary</td>\n",
       "      <td>NaN</td>\n",
       "      <td>NaN</td>\n",
       "      <td>Anirban Datta</td>\n",
       "      <td>NaN</td>\n",
       "      <td>NaN</td>\n",
       "      <td>NaN</td>\n",
       "    </tr>\n",
       "    <tr>\n",
       "      <th>8</th>\n",
       "      <td>?: A Question Mark</td>\n",
       "      <td>(2012)</td>\n",
       "      <td>82 min</td>\n",
       "      <td>Horror, Mystery, Thriller</td>\n",
       "      <td>5.6</td>\n",
       "      <td>326</td>\n",
       "      <td>Allyson Patel</td>\n",
       "      <td>Yash Dave</td>\n",
       "      <td>Muntazir Ahmad</td>\n",
       "      <td>Kiran Bhatia</td>\n",
       "    </tr>\n",
       "    <tr>\n",
       "      <th>9</th>\n",
       "      <td>@Andheri</td>\n",
       "      <td>(2014)</td>\n",
       "      <td>116 min</td>\n",
       "      <td>Action, Crime, Thriller</td>\n",
       "      <td>4.0</td>\n",
       "      <td>11</td>\n",
       "      <td>Biju Bhaskar Nair</td>\n",
       "      <td>Augustine</td>\n",
       "      <td>Fathima Babu</td>\n",
       "      <td>Byon</td>\n",
       "    </tr>\n",
       "  </tbody>\n",
       "</table>\n",
       "</div>"
      ],
      "text/plain": [
       "                                 Name    Year Duration  \\\n",
       "0                                         NaN      NaN   \n",
       "1  #Gadhvi (He thought he was Gandhi)  (2019)  109 min   \n",
       "2                         #Homecoming  (2021)   90 min   \n",
       "3                             #Yaaram  (2019)  110 min   \n",
       "4                   ...And Once Again  (2010)  105 min   \n",
       "5                ...Aur Pyaar Ho Gaya  (1997)  147 min   \n",
       "6                           ...Yahaan  (2005)  142 min   \n",
       "7                      .in for Motion  (2008)   59 min   \n",
       "8                  ?: A Question Mark  (2012)   82 min   \n",
       "9                            @Andheri  (2014)  116 min   \n",
       "\n",
       "                       Genre  Rating  Votes            Director  \\\n",
       "0                      Drama     NaN    NaN       J.S. Randhawa   \n",
       "1                      Drama     7.0      8       Gaurav Bakshi   \n",
       "2             Drama, Musical     NaN    NaN  Soumyajit Majumdar   \n",
       "3            Comedy, Romance     4.4     35          Ovais Khan   \n",
       "4                      Drama     NaN    NaN        Amol Palekar   \n",
       "5     Comedy, Drama, Musical     4.7    827        Rahul Rawail   \n",
       "6        Drama, Romance, War     7.4  1,086      Shoojit Sircar   \n",
       "7                Documentary     NaN    NaN       Anirban Datta   \n",
       "8  Horror, Mystery, Thriller     5.6    326       Allyson Patel   \n",
       "9    Action, Crime, Thriller     4.0     11   Biju Bhaskar Nair   \n",
       "\n",
       "           Actor 1                 Actor 2          Actor 3  \n",
       "0         Manmauji                  Birbal  Rajendra Bhatia  \n",
       "1     Rasika Dugal          Vivek Ghamande    Arvind Jangid  \n",
       "2     Sayani Gupta       Plabita Borthakur       Roy Angana  \n",
       "3          Prateik              Ishita Raj  Siddhant Kapoor  \n",
       "4     Rajat Kapoor      Rituparna Sengupta      Antara Mali  \n",
       "5       Bobby Deol  Aishwarya Rai Bachchan    Shammi Kapoor  \n",
       "6  Jimmy Sheirgill          Minissha Lamba   Yashpal Sharma  \n",
       "7              NaN                     NaN              NaN  \n",
       "8        Yash Dave          Muntazir Ahmad     Kiran Bhatia  \n",
       "9        Augustine            Fathima Babu             Byon  "
      ]
     },
     "execution_count": 348,
     "metadata": {},
     "output_type": "execute_result"
    }
   ],
   "source": [
    "data.head(10)"
   ]
  },
  {
   "cell_type": "code",
   "execution_count": 349,
   "id": "0b40dc8a",
   "metadata": {
    "ExecuteTime": {
     "end_time": "2024-06-19T02:18:12.217442Z",
     "start_time": "2024-06-19T02:18:12.199489Z"
    }
   },
   "outputs": [
    {
     "name": "stdout",
     "output_type": "stream",
     "text": [
      "<class 'pandas.core.frame.DataFrame'>\n",
      "RangeIndex: 15509 entries, 0 to 15508\n",
      "Data columns (total 10 columns):\n",
      " #   Column    Non-Null Count  Dtype  \n",
      "---  ------    --------------  -----  \n",
      " 0   Name      15509 non-null  object \n",
      " 1   Year      14981 non-null  object \n",
      " 2   Duration  7240 non-null   object \n",
      " 3   Genre     13632 non-null  object \n",
      " 4   Rating    7919 non-null   float64\n",
      " 5   Votes     7920 non-null   object \n",
      " 6   Director  14984 non-null  object \n",
      " 7   Actor 1   13892 non-null  object \n",
      " 8   Actor 2   13125 non-null  object \n",
      " 9   Actor 3   12365 non-null  object \n",
      "dtypes: float64(1), object(9)\n",
      "memory usage: 1.2+ MB\n"
     ]
    }
   ],
   "source": [
    "data.info()"
   ]
  },
  {
   "cell_type": "code",
   "execution_count": 350,
   "id": "fbf1e7a9",
   "metadata": {
    "ExecuteTime": {
     "end_time": "2024-06-19T02:18:12.226411Z",
     "start_time": "2024-06-19T02:18:12.218452Z"
    }
   },
   "outputs": [
    {
     "data": {
      "text/plain": [
       "1671"
      ]
     },
     "execution_count": 350,
     "metadata": {},
     "output_type": "execute_result"
    }
   ],
   "source": [
    "data.duplicated(subset=[\"Name\"]).sum()"
   ]
  },
  {
   "cell_type": "code",
   "execution_count": 351,
   "id": "21bc81a5",
   "metadata": {
    "ExecuteTime": {
     "end_time": "2024-06-19T02:18:12.243163Z",
     "start_time": "2024-06-19T02:18:12.227418Z"
    }
   },
   "outputs": [
    {
     "data": {
      "text/plain": [
       "Name           0\n",
       "Year         528\n",
       "Duration    8269\n",
       "Genre       1877\n",
       "Rating      7590\n",
       "Votes       7589\n",
       "Director     525\n",
       "Actor 1     1617\n",
       "Actor 2     2384\n",
       "Actor 3     3144\n",
       "dtype: int64"
      ]
     },
     "execution_count": 351,
     "metadata": {},
     "output_type": "execute_result"
    }
   ],
   "source": [
    "data.isna().sum()"
   ]
  },
  {
   "cell_type": "code",
   "execution_count": 352,
   "id": "1b10068f",
   "metadata": {
    "ExecuteTime": {
     "end_time": "2024-06-19T02:18:12.258245Z",
     "start_time": "2024-06-19T02:18:12.244170Z"
    }
   },
   "outputs": [],
   "source": [
    "data= data.dropna(subset=[\"Year\",\"Genre\",\"Director\",\"Actor 1\",\"Actor 2\",\"Actor 3\",\"Rating\"])"
   ]
  },
  {
   "cell_type": "code",
   "execution_count": 353,
   "id": "7b9d7eea",
   "metadata": {
    "ExecuteTime": {
     "end_time": "2024-06-19T02:18:12.264814Z",
     "start_time": "2024-06-19T02:18:12.259253Z"
    }
   },
   "outputs": [
    {
     "data": {
      "text/plain": [
       "(7558, 10)"
      ]
     },
     "execution_count": 353,
     "metadata": {},
     "output_type": "execute_result"
    }
   ],
   "source": [
    "data.shape"
   ]
  },
  {
   "cell_type": "code",
   "execution_count": 354,
   "id": "46b150df",
   "metadata": {
    "ExecuteTime": {
     "end_time": "2024-06-19T02:18:12.281582Z",
     "start_time": "2024-06-19T02:18:12.265822Z"
    }
   },
   "outputs": [],
   "source": [
    "data[\"Duration\"] = data.loc[:,\"Duration\"].str.replace(\" min\",\"\")\n",
    "data[\"Duration\"] = pd.to_numeric(data.loc[:,\"Duration\"])"
   ]
  },
  {
   "cell_type": "code",
   "execution_count": 355,
   "id": "3ad5d4c2",
   "metadata": {
    "ExecuteTime": {
     "end_time": "2024-06-19T02:18:12.297698Z",
     "start_time": "2024-06-19T02:18:12.285592Z"
    }
   },
   "outputs": [],
   "source": [
    "data[\"Votes\"] = data.loc[:,\"Votes\"].str.replace(\",\",\"\")\n",
    "data[\"Votes\"] = pd.to_numeric(data.loc[:,\"Votes\"])"
   ]
  },
  {
   "cell_type": "code",
   "execution_count": 356,
   "id": "c6571289",
   "metadata": {
    "ExecuteTime": {
     "end_time": "2024-06-19T02:18:12.312486Z",
     "start_time": "2024-06-19T02:18:12.299706Z"
    }
   },
   "outputs": [],
   "source": [
    "data[\"Duration\"] = data.loc[:,'Duration'].fillna(data.groupby(\"Genre\")[\"Duration\"].transform('mean'))"
   ]
  },
  {
   "cell_type": "code",
   "execution_count": 357,
   "id": "5da2d0a3",
   "metadata": {
    "ExecuteTime": {
     "end_time": "2024-06-19T02:18:12.331016Z",
     "start_time": "2024-06-19T02:18:12.315498Z"
    }
   },
   "outputs": [],
   "source": [
    "data = data.dropna().reset_index(drop=True)"
   ]
  },
  {
   "cell_type": "code",
   "execution_count": 358,
   "id": "de49d509",
   "metadata": {
    "ExecuteTime": {
     "end_time": "2024-06-19T02:18:12.353181Z",
     "start_time": "2024-06-19T02:18:12.333028Z"
    }
   },
   "outputs": [
    {
     "data": {
      "text/plain": [
       "(7516, 10)"
      ]
     },
     "execution_count": 358,
     "metadata": {},
     "output_type": "execute_result"
    }
   ],
   "source": [
    "data.shape"
   ]
  },
  {
   "cell_type": "code",
   "execution_count": 359,
   "id": "5bcb3823",
   "metadata": {
    "ExecuteTime": {
     "end_time": "2024-06-19T02:18:12.367802Z",
     "start_time": "2024-06-19T02:18:12.355197Z"
    }
   },
   "outputs": [
    {
     "data": {
      "text/plain": [
       "3"
      ]
     },
     "execution_count": 359,
     "metadata": {},
     "output_type": "execute_result"
    }
   ],
   "source": [
    "data.duplicated(subset=[\"Name\",\"Year\"]).sum()"
   ]
  },
  {
   "cell_type": "code",
   "execution_count": 360,
   "id": "367b2f7f",
   "metadata": {
    "ExecuteTime": {
     "end_time": "2024-06-19T02:18:12.378980Z",
     "start_time": "2024-06-19T02:18:12.369811Z"
    }
   },
   "outputs": [],
   "source": [
    "data=data.drop_duplicates(keep=\"first\",subset=[\"Name\",\"Year\"]).reset_index(drop=True)"
   ]
  },
  {
   "cell_type": "code",
   "execution_count": 362,
   "id": "8845ebc0",
   "metadata": {
    "ExecuteTime": {
     "end_time": "2024-06-19T02:18:27.858308Z",
     "start_time": "2024-06-19T02:18:27.848486Z"
    }
   },
   "outputs": [
    {
     "data": {
      "text/plain": [
       "Index(['Name', 'Year', 'Duration', 'Genre', 'Rating', 'Votes', 'Director',\n",
       "       'Actor 1', 'Actor 2', 'Actor 3'],\n",
       "      dtype='object')"
      ]
     },
     "execution_count": 362,
     "metadata": {},
     "output_type": "execute_result"
    }
   ],
   "source": [
    "data.columns"
   ]
  },
  {
   "cell_type": "code",
   "execution_count": 370,
   "id": "10ae9aa8",
   "metadata": {
    "ExecuteTime": {
     "end_time": "2024-06-19T02:21:11.646178Z",
     "start_time": "2024-06-19T02:21:11.640153Z"
    }
   },
   "outputs": [
    {
     "data": {
      "text/plain": [
       "array(['(2019)', '(1997)', '(2005)', '(2012)', '(2014)', '(2004)',\n",
       "       '(2016)', '(1991)', '(2018)', '(2010)', '(1958)', '(2021)',\n",
       "       '(2017)', '(2009)', '(1993)', '(2002)', '(1946)', '(2008)',\n",
       "       '(1994)', '(2007)', '(2013)', '(2003)', '(1998)', '(1979)',\n",
       "       '(1974)', '(2015)', '(2006)', '(1981)', '(2020)', '(1985)',\n",
       "       '(2011)', '(1988)', '(1995)', '(1987)', '(1999)', '(1973)',\n",
       "       '(1968)', '(1953)', '(1986)', '(1982)', '(1977)', '(1950)',\n",
       "       '(1969)', '(1948)', '(1967)', '(1970)', '(1990)', '(1989)',\n",
       "       '(1947)', '(2001)', '(2000)', '(1971)', '(1978)', '(1944)',\n",
       "       '(1963)', '(1992)', '(1976)', '(1984)', '(1975)', '(1980)',\n",
       "       '(1966)', '(1972)', '(1956)', '(1960)', '(1964)', '(1952)',\n",
       "       '(1959)', '(1951)', '(1954)', '(1962)', '(1961)', '(1957)',\n",
       "       '(1965)', '(1996)', '(1933)', '(1955)', '(1983)', '(1936)',\n",
       "       '(1949)', '(1940)', '(1945)', '(1938)', '(1941)', '(1942)',\n",
       "       '(1932)', '(1935)', '(1937)', '(1931)', '(1943)', '(1917)',\n",
       "       '(1939)', '(1934)'], dtype=object)"
      ]
     },
     "execution_count": 370,
     "metadata": {},
     "output_type": "execute_result"
    }
   ],
   "source": [
    "data.Year.unique()"
   ]
  }
 ],
 "metadata": {
  "kernelspec": {
   "display_name": "Python 3 (ipykernel)",
   "language": "python",
   "name": "python3"
  },
  "language_info": {
   "codemirror_mode": {
    "name": "ipython",
    "version": 3
   },
   "file_extension": ".py",
   "mimetype": "text/x-python",
   "name": "python",
   "nbconvert_exporter": "python",
   "pygments_lexer": "ipython3",
   "version": "3.11.5"
  },
  "varInspector": {
   "cols": {
    "lenName": 16,
    "lenType": 16,
    "lenVar": 40
   },
   "kernels_config": {
    "python": {
     "delete_cmd_postfix": "",
     "delete_cmd_prefix": "del ",
     "library": "var_list.py",
     "varRefreshCmd": "print(var_dic_list())"
    },
    "r": {
     "delete_cmd_postfix": ") ",
     "delete_cmd_prefix": "rm(",
     "library": "var_list.r",
     "varRefreshCmd": "cat(var_dic_list()) "
    }
   },
   "types_to_exclude": [
    "module",
    "function",
    "builtin_function_or_method",
    "instance",
    "_Feature"
   ],
   "window_display": false
  }
 },
 "nbformat": 4,
 "nbformat_minor": 5
}
