{
 "cells": [
  {
   "cell_type": "markdown",
   "id": "4a6562ac",
   "metadata": {
    "papermill": {
     "duration": 0.006953,
     "end_time": "2024-06-26T16:26:13.626980",
     "exception": false,
     "start_time": "2024-06-26T16:26:13.620027",
     "status": "completed"
    },
    "tags": []
   },
   "source": [
    "# Imorting libraries and reading data"
   ]
  },
  {
   "cell_type": "code",
   "execution_count": 27,
   "id": "940f9c1a",
   "metadata": {
    "execution": {
     "iopub.execute_input": "2024-06-26T16:26:13.642504Z",
     "iopub.status.busy": "2024-06-26T16:26:13.641669Z",
     "iopub.status.idle": "2024-06-26T16:26:15.528268Z",
     "shell.execute_reply": "2024-06-26T16:26:15.527305Z"
    },
    "papermill": {
     "duration": 1.897255,
     "end_time": "2024-06-26T16:26:15.530753",
     "exception": false,
     "start_time": "2024-06-26T16:26:13.633498",
     "status": "completed"
    },
    "tags": []
   },
   "outputs": [],
   "source": [
    "import pandas as pd \n",
    "import numpy as np\n",
    "import matplotlib.pyplot as plt\n",
    "import seaborn as sns\n",
    "import warnings\n",
    "warnings.simplefilter(action=\"ignore\")"
   ]
  },
  {
   "cell_type": "code",
   "execution_count": 28,
   "id": "0c45aaf8",
   "metadata": {
    "execution": {
     "iopub.execute_input": "2024-06-26T16:26:15.545941Z",
     "iopub.status.busy": "2024-06-26T16:26:15.545443Z",
     "iopub.status.idle": "2024-06-26T16:26:18.937790Z",
     "shell.execute_reply": "2024-06-26T16:26:18.936884Z"
    },
    "papermill": {
     "duration": 3.402622,
     "end_time": "2024-06-26T16:26:18.940275",
     "exception": false,
     "start_time": "2024-06-26T16:26:15.537653",
     "status": "completed"
    },
    "tags": []
   },
   "outputs": [],
   "source": [
    "data = pd.read_csv(\"creditcard.csv\")"
   ]
  },
  {
   "cell_type": "code",
   "execution_count": 29,
   "id": "63ae6a6d",
   "metadata": {
    "execution": {
     "iopub.execute_input": "2024-06-26T16:26:18.955571Z",
     "iopub.status.busy": "2024-06-26T16:26:18.955210Z",
     "iopub.status.idle": "2024-06-26T16:26:18.994271Z",
     "shell.execute_reply": "2024-06-26T16:26:18.993234Z"
    },
    "papermill": {
     "duration": 0.0493,
     "end_time": "2024-06-26T16:26:18.996438",
     "exception": false,
     "start_time": "2024-06-26T16:26:18.947138",
     "status": "completed"
    },
    "tags": []
   },
   "outputs": [
    {
     "data": {
      "text/html": [
       "<div>\n",
       "<style scoped>\n",
       "    .dataframe tbody tr th:only-of-type {\n",
       "        vertical-align: middle;\n",
       "    }\n",
       "\n",
       "    .dataframe tbody tr th {\n",
       "        vertical-align: top;\n",
       "    }\n",
       "\n",
       "    .dataframe thead th {\n",
       "        text-align: right;\n",
       "    }\n",
       "</style>\n",
       "<table border=\"1\" class=\"dataframe\">\n",
       "  <thead>\n",
       "    <tr style=\"text-align: right;\">\n",
       "      <th></th>\n",
       "      <th>Time</th>\n",
       "      <th>V1</th>\n",
       "      <th>V2</th>\n",
       "      <th>V3</th>\n",
       "      <th>V4</th>\n",
       "      <th>V5</th>\n",
       "      <th>V6</th>\n",
       "      <th>V7</th>\n",
       "      <th>V8</th>\n",
       "      <th>V9</th>\n",
       "      <th>...</th>\n",
       "      <th>V21</th>\n",
       "      <th>V22</th>\n",
       "      <th>V23</th>\n",
       "      <th>V24</th>\n",
       "      <th>V25</th>\n",
       "      <th>V26</th>\n",
       "      <th>V27</th>\n",
       "      <th>V28</th>\n",
       "      <th>Amount</th>\n",
       "      <th>Class</th>\n",
       "    </tr>\n",
       "  </thead>\n",
       "  <tbody>\n",
       "    <tr>\n",
       "      <th>0</th>\n",
       "      <td>0.0</td>\n",
       "      <td>-1.359807</td>\n",
       "      <td>-0.072781</td>\n",
       "      <td>2.536347</td>\n",
       "      <td>1.378155</td>\n",
       "      <td>-0.338321</td>\n",
       "      <td>0.462388</td>\n",
       "      <td>0.239599</td>\n",
       "      <td>0.098698</td>\n",
       "      <td>0.363787</td>\n",
       "      <td>...</td>\n",
       "      <td>-0.018307</td>\n",
       "      <td>0.277838</td>\n",
       "      <td>-0.110474</td>\n",
       "      <td>0.066928</td>\n",
       "      <td>0.128539</td>\n",
       "      <td>-0.189115</td>\n",
       "      <td>0.133558</td>\n",
       "      <td>-0.021053</td>\n",
       "      <td>149.62</td>\n",
       "      <td>0</td>\n",
       "    </tr>\n",
       "    <tr>\n",
       "      <th>1</th>\n",
       "      <td>0.0</td>\n",
       "      <td>1.191857</td>\n",
       "      <td>0.266151</td>\n",
       "      <td>0.166480</td>\n",
       "      <td>0.448154</td>\n",
       "      <td>0.060018</td>\n",
       "      <td>-0.082361</td>\n",
       "      <td>-0.078803</td>\n",
       "      <td>0.085102</td>\n",
       "      <td>-0.255425</td>\n",
       "      <td>...</td>\n",
       "      <td>-0.225775</td>\n",
       "      <td>-0.638672</td>\n",
       "      <td>0.101288</td>\n",
       "      <td>-0.339846</td>\n",
       "      <td>0.167170</td>\n",
       "      <td>0.125895</td>\n",
       "      <td>-0.008983</td>\n",
       "      <td>0.014724</td>\n",
       "      <td>2.69</td>\n",
       "      <td>0</td>\n",
       "    </tr>\n",
       "    <tr>\n",
       "      <th>2</th>\n",
       "      <td>1.0</td>\n",
       "      <td>-1.358354</td>\n",
       "      <td>-1.340163</td>\n",
       "      <td>1.773209</td>\n",
       "      <td>0.379780</td>\n",
       "      <td>-0.503198</td>\n",
       "      <td>1.800499</td>\n",
       "      <td>0.791461</td>\n",
       "      <td>0.247676</td>\n",
       "      <td>-1.514654</td>\n",
       "      <td>...</td>\n",
       "      <td>0.247998</td>\n",
       "      <td>0.771679</td>\n",
       "      <td>0.909412</td>\n",
       "      <td>-0.689281</td>\n",
       "      <td>-0.327642</td>\n",
       "      <td>-0.139097</td>\n",
       "      <td>-0.055353</td>\n",
       "      <td>-0.059752</td>\n",
       "      <td>378.66</td>\n",
       "      <td>0</td>\n",
       "    </tr>\n",
       "    <tr>\n",
       "      <th>3</th>\n",
       "      <td>1.0</td>\n",
       "      <td>-0.966272</td>\n",
       "      <td>-0.185226</td>\n",
       "      <td>1.792993</td>\n",
       "      <td>-0.863291</td>\n",
       "      <td>-0.010309</td>\n",
       "      <td>1.247203</td>\n",
       "      <td>0.237609</td>\n",
       "      <td>0.377436</td>\n",
       "      <td>-1.387024</td>\n",
       "      <td>...</td>\n",
       "      <td>-0.108300</td>\n",
       "      <td>0.005274</td>\n",
       "      <td>-0.190321</td>\n",
       "      <td>-1.175575</td>\n",
       "      <td>0.647376</td>\n",
       "      <td>-0.221929</td>\n",
       "      <td>0.062723</td>\n",
       "      <td>0.061458</td>\n",
       "      <td>123.50</td>\n",
       "      <td>0</td>\n",
       "    </tr>\n",
       "    <tr>\n",
       "      <th>4</th>\n",
       "      <td>2.0</td>\n",
       "      <td>-1.158233</td>\n",
       "      <td>0.877737</td>\n",
       "      <td>1.548718</td>\n",
       "      <td>0.403034</td>\n",
       "      <td>-0.407193</td>\n",
       "      <td>0.095921</td>\n",
       "      <td>0.592941</td>\n",
       "      <td>-0.270533</td>\n",
       "      <td>0.817739</td>\n",
       "      <td>...</td>\n",
       "      <td>-0.009431</td>\n",
       "      <td>0.798278</td>\n",
       "      <td>-0.137458</td>\n",
       "      <td>0.141267</td>\n",
       "      <td>-0.206010</td>\n",
       "      <td>0.502292</td>\n",
       "      <td>0.219422</td>\n",
       "      <td>0.215153</td>\n",
       "      <td>69.99</td>\n",
       "      <td>0</td>\n",
       "    </tr>\n",
       "    <tr>\n",
       "      <th>5</th>\n",
       "      <td>2.0</td>\n",
       "      <td>-0.425966</td>\n",
       "      <td>0.960523</td>\n",
       "      <td>1.141109</td>\n",
       "      <td>-0.168252</td>\n",
       "      <td>0.420987</td>\n",
       "      <td>-0.029728</td>\n",
       "      <td>0.476201</td>\n",
       "      <td>0.260314</td>\n",
       "      <td>-0.568671</td>\n",
       "      <td>...</td>\n",
       "      <td>-0.208254</td>\n",
       "      <td>-0.559825</td>\n",
       "      <td>-0.026398</td>\n",
       "      <td>-0.371427</td>\n",
       "      <td>-0.232794</td>\n",
       "      <td>0.105915</td>\n",
       "      <td>0.253844</td>\n",
       "      <td>0.081080</td>\n",
       "      <td>3.67</td>\n",
       "      <td>0</td>\n",
       "    </tr>\n",
       "    <tr>\n",
       "      <th>6</th>\n",
       "      <td>4.0</td>\n",
       "      <td>1.229658</td>\n",
       "      <td>0.141004</td>\n",
       "      <td>0.045371</td>\n",
       "      <td>1.202613</td>\n",
       "      <td>0.191881</td>\n",
       "      <td>0.272708</td>\n",
       "      <td>-0.005159</td>\n",
       "      <td>0.081213</td>\n",
       "      <td>0.464960</td>\n",
       "      <td>...</td>\n",
       "      <td>-0.167716</td>\n",
       "      <td>-0.270710</td>\n",
       "      <td>-0.154104</td>\n",
       "      <td>-0.780055</td>\n",
       "      <td>0.750137</td>\n",
       "      <td>-0.257237</td>\n",
       "      <td>0.034507</td>\n",
       "      <td>0.005168</td>\n",
       "      <td>4.99</td>\n",
       "      <td>0</td>\n",
       "    </tr>\n",
       "    <tr>\n",
       "      <th>7</th>\n",
       "      <td>7.0</td>\n",
       "      <td>-0.644269</td>\n",
       "      <td>1.417964</td>\n",
       "      <td>1.074380</td>\n",
       "      <td>-0.492199</td>\n",
       "      <td>0.948934</td>\n",
       "      <td>0.428118</td>\n",
       "      <td>1.120631</td>\n",
       "      <td>-3.807864</td>\n",
       "      <td>0.615375</td>\n",
       "      <td>...</td>\n",
       "      <td>1.943465</td>\n",
       "      <td>-1.015455</td>\n",
       "      <td>0.057504</td>\n",
       "      <td>-0.649709</td>\n",
       "      <td>-0.415267</td>\n",
       "      <td>-0.051634</td>\n",
       "      <td>-1.206921</td>\n",
       "      <td>-1.085339</td>\n",
       "      <td>40.80</td>\n",
       "      <td>0</td>\n",
       "    </tr>\n",
       "    <tr>\n",
       "      <th>8</th>\n",
       "      <td>7.0</td>\n",
       "      <td>-0.894286</td>\n",
       "      <td>0.286157</td>\n",
       "      <td>-0.113192</td>\n",
       "      <td>-0.271526</td>\n",
       "      <td>2.669599</td>\n",
       "      <td>3.721818</td>\n",
       "      <td>0.370145</td>\n",
       "      <td>0.851084</td>\n",
       "      <td>-0.392048</td>\n",
       "      <td>...</td>\n",
       "      <td>-0.073425</td>\n",
       "      <td>-0.268092</td>\n",
       "      <td>-0.204233</td>\n",
       "      <td>1.011592</td>\n",
       "      <td>0.373205</td>\n",
       "      <td>-0.384157</td>\n",
       "      <td>0.011747</td>\n",
       "      <td>0.142404</td>\n",
       "      <td>93.20</td>\n",
       "      <td>0</td>\n",
       "    </tr>\n",
       "    <tr>\n",
       "      <th>9</th>\n",
       "      <td>9.0</td>\n",
       "      <td>-0.338262</td>\n",
       "      <td>1.119593</td>\n",
       "      <td>1.044367</td>\n",
       "      <td>-0.222187</td>\n",
       "      <td>0.499361</td>\n",
       "      <td>-0.246761</td>\n",
       "      <td>0.651583</td>\n",
       "      <td>0.069539</td>\n",
       "      <td>-0.736727</td>\n",
       "      <td>...</td>\n",
       "      <td>-0.246914</td>\n",
       "      <td>-0.633753</td>\n",
       "      <td>-0.120794</td>\n",
       "      <td>-0.385050</td>\n",
       "      <td>-0.069733</td>\n",
       "      <td>0.094199</td>\n",
       "      <td>0.246219</td>\n",
       "      <td>0.083076</td>\n",
       "      <td>3.68</td>\n",
       "      <td>0</td>\n",
       "    </tr>\n",
       "  </tbody>\n",
       "</table>\n",
       "<p>10 rows × 31 columns</p>\n",
       "</div>"
      ],
      "text/plain": [
       "   Time        V1        V2        V3        V4        V5        V6        V7  \\\n",
       "0   0.0 -1.359807 -0.072781  2.536347  1.378155 -0.338321  0.462388  0.239599   \n",
       "1   0.0  1.191857  0.266151  0.166480  0.448154  0.060018 -0.082361 -0.078803   \n",
       "2   1.0 -1.358354 -1.340163  1.773209  0.379780 -0.503198  1.800499  0.791461   \n",
       "3   1.0 -0.966272 -0.185226  1.792993 -0.863291 -0.010309  1.247203  0.237609   \n",
       "4   2.0 -1.158233  0.877737  1.548718  0.403034 -0.407193  0.095921  0.592941   \n",
       "5   2.0 -0.425966  0.960523  1.141109 -0.168252  0.420987 -0.029728  0.476201   \n",
       "6   4.0  1.229658  0.141004  0.045371  1.202613  0.191881  0.272708 -0.005159   \n",
       "7   7.0 -0.644269  1.417964  1.074380 -0.492199  0.948934  0.428118  1.120631   \n",
       "8   7.0 -0.894286  0.286157 -0.113192 -0.271526  2.669599  3.721818  0.370145   \n",
       "9   9.0 -0.338262  1.119593  1.044367 -0.222187  0.499361 -0.246761  0.651583   \n",
       "\n",
       "         V8        V9  ...       V21       V22       V23       V24       V25  \\\n",
       "0  0.098698  0.363787  ... -0.018307  0.277838 -0.110474  0.066928  0.128539   \n",
       "1  0.085102 -0.255425  ... -0.225775 -0.638672  0.101288 -0.339846  0.167170   \n",
       "2  0.247676 -1.514654  ...  0.247998  0.771679  0.909412 -0.689281 -0.327642   \n",
       "3  0.377436 -1.387024  ... -0.108300  0.005274 -0.190321 -1.175575  0.647376   \n",
       "4 -0.270533  0.817739  ... -0.009431  0.798278 -0.137458  0.141267 -0.206010   \n",
       "5  0.260314 -0.568671  ... -0.208254 -0.559825 -0.026398 -0.371427 -0.232794   \n",
       "6  0.081213  0.464960  ... -0.167716 -0.270710 -0.154104 -0.780055  0.750137   \n",
       "7 -3.807864  0.615375  ...  1.943465 -1.015455  0.057504 -0.649709 -0.415267   \n",
       "8  0.851084 -0.392048  ... -0.073425 -0.268092 -0.204233  1.011592  0.373205   \n",
       "9  0.069539 -0.736727  ... -0.246914 -0.633753 -0.120794 -0.385050 -0.069733   \n",
       "\n",
       "        V26       V27       V28  Amount  Class  \n",
       "0 -0.189115  0.133558 -0.021053  149.62      0  \n",
       "1  0.125895 -0.008983  0.014724    2.69      0  \n",
       "2 -0.139097 -0.055353 -0.059752  378.66      0  \n",
       "3 -0.221929  0.062723  0.061458  123.50      0  \n",
       "4  0.502292  0.219422  0.215153   69.99      0  \n",
       "5  0.105915  0.253844  0.081080    3.67      0  \n",
       "6 -0.257237  0.034507  0.005168    4.99      0  \n",
       "7 -0.051634 -1.206921 -1.085339   40.80      0  \n",
       "8 -0.384157  0.011747  0.142404   93.20      0  \n",
       "9  0.094199  0.246219  0.083076    3.68      0  \n",
       "\n",
       "[10 rows x 31 columns]"
      ]
     },
     "execution_count": 29,
     "metadata": {},
     "output_type": "execute_result"
    }
   ],
   "source": [
    "data.head(10)"
   ]
  },
  {
   "cell_type": "code",
   "execution_count": 30,
   "id": "df2e8815",
   "metadata": {
    "execution": {
     "iopub.execute_input": "2024-06-26T16:26:19.011876Z",
     "iopub.status.busy": "2024-06-26T16:26:19.011255Z",
     "iopub.status.idle": "2024-06-26T16:26:19.046851Z",
     "shell.execute_reply": "2024-06-26T16:26:19.045870Z"
    },
    "papermill": {
     "duration": 0.046304,
     "end_time": "2024-06-26T16:26:19.049576",
     "exception": false,
     "start_time": "2024-06-26T16:26:19.003272",
     "status": "completed"
    },
    "tags": []
   },
   "outputs": [
    {
     "name": "stdout",
     "output_type": "stream",
     "text": [
      "<class 'pandas.core.frame.DataFrame'>\n",
      "RangeIndex: 284807 entries, 0 to 284806\n",
      "Data columns (total 31 columns):\n",
      " #   Column  Non-Null Count   Dtype  \n",
      "---  ------  --------------   -----  \n",
      " 0   Time    284807 non-null  float64\n",
      " 1   V1      284807 non-null  float64\n",
      " 2   V2      284807 non-null  float64\n",
      " 3   V3      284807 non-null  float64\n",
      " 4   V4      284807 non-null  float64\n",
      " 5   V5      284807 non-null  float64\n",
      " 6   V6      284807 non-null  float64\n",
      " 7   V7      284807 non-null  float64\n",
      " 8   V8      284807 non-null  float64\n",
      " 9   V9      284807 non-null  float64\n",
      " 10  V10     284807 non-null  float64\n",
      " 11  V11     284807 non-null  float64\n",
      " 12  V12     284807 non-null  float64\n",
      " 13  V13     284807 non-null  float64\n",
      " 14  V14     284807 non-null  float64\n",
      " 15  V15     284807 non-null  float64\n",
      " 16  V16     284807 non-null  float64\n",
      " 17  V17     284807 non-null  float64\n",
      " 18  V18     284807 non-null  float64\n",
      " 19  V19     284807 non-null  float64\n",
      " 20  V20     284807 non-null  float64\n",
      " 21  V21     284807 non-null  float64\n",
      " 22  V22     284807 non-null  float64\n",
      " 23  V23     284807 non-null  float64\n",
      " 24  V24     284807 non-null  float64\n",
      " 25  V25     284807 non-null  float64\n",
      " 26  V26     284807 non-null  float64\n",
      " 27  V27     284807 non-null  float64\n",
      " 28  V28     284807 non-null  float64\n",
      " 29  Amount  284807 non-null  float64\n",
      " 30  Class   284807 non-null  int64  \n",
      "dtypes: float64(30), int64(1)\n",
      "memory usage: 67.4 MB\n"
     ]
    }
   ],
   "source": [
    "data.info()"
   ]
  },
  {
   "cell_type": "markdown",
   "id": "b8a19e42",
   "metadata": {
    "papermill": {
     "duration": 0.006787,
     "end_time": "2024-06-26T16:26:19.063432",
     "exception": false,
     "start_time": "2024-06-26T16:26:19.056645",
     "status": "completed"
    },
    "tags": []
   },
   "source": [
    "# Understanding the data"
   ]
  },
  {
   "cell_type": "code",
   "execution_count": 31,
   "id": "5a2b5caf",
   "metadata": {
    "execution": {
     "iopub.execute_input": "2024-06-26T16:26:19.079007Z",
     "iopub.status.busy": "2024-06-26T16:26:19.078633Z",
     "iopub.status.idle": "2024-06-26T16:26:19.090213Z",
     "shell.execute_reply": "2024-06-26T16:26:19.089288Z"
    },
    "papermill": {
     "duration": 0.021932,
     "end_time": "2024-06-26T16:26:19.092243",
     "exception": false,
     "start_time": "2024-06-26T16:26:19.070311",
     "status": "completed"
    },
    "tags": []
   },
   "outputs": [
    {
     "data": {
      "text/plain": [
       "Class\n",
       "0    284315\n",
       "1       492\n",
       "Name: count, dtype: int64"
      ]
     },
     "execution_count": 31,
     "metadata": {},
     "output_type": "execute_result"
    }
   ],
   "source": [
    "data.Class.value_counts()"
   ]
  },
  {
   "cell_type": "markdown",
   "id": "1f8276b5",
   "metadata": {
    "papermill": {
     "duration": 0.00691,
     "end_time": "2024-06-26T16:26:19.106265",
     "exception": false,
     "start_time": "2024-06-26T16:26:19.099355",
     "status": "completed"
    },
    "tags": []
   },
   "source": [
    "* Data needs upsampling since less than 1% of the data is fraud transactions"
   ]
  },
  {
   "cell_type": "code",
   "execution_count": 32,
   "id": "ef3f1a83",
   "metadata": {
    "execution": {
     "iopub.execute_input": "2024-06-26T16:26:19.121830Z",
     "iopub.status.busy": "2024-06-26T16:26:19.121475Z",
     "iopub.status.idle": "2024-06-26T16:26:19.564997Z",
     "shell.execute_reply": "2024-06-26T16:26:19.564026Z"
    },
    "papermill": {
     "duration": 0.454212,
     "end_time": "2024-06-26T16:26:19.567476",
     "exception": false,
     "start_time": "2024-06-26T16:26:19.113264",
     "status": "completed"
    },
    "tags": []
   },
   "outputs": [
    {
     "data": {
      "text/html": [
       "<div>\n",
       "<style scoped>\n",
       "    .dataframe tbody tr th:only-of-type {\n",
       "        vertical-align: middle;\n",
       "    }\n",
       "\n",
       "    .dataframe tbody tr th {\n",
       "        vertical-align: top;\n",
       "    }\n",
       "\n",
       "    .dataframe thead th {\n",
       "        text-align: right;\n",
       "    }\n",
       "</style>\n",
       "<table border=\"1\" class=\"dataframe\">\n",
       "  <thead>\n",
       "    <tr style=\"text-align: right;\">\n",
       "      <th></th>\n",
       "      <th>Time</th>\n",
       "      <th>V1</th>\n",
       "      <th>V2</th>\n",
       "      <th>V3</th>\n",
       "      <th>V4</th>\n",
       "      <th>V5</th>\n",
       "      <th>V6</th>\n",
       "      <th>V7</th>\n",
       "      <th>V8</th>\n",
       "      <th>V9</th>\n",
       "      <th>...</th>\n",
       "      <th>V21</th>\n",
       "      <th>V22</th>\n",
       "      <th>V23</th>\n",
       "      <th>V24</th>\n",
       "      <th>V25</th>\n",
       "      <th>V26</th>\n",
       "      <th>V27</th>\n",
       "      <th>V28</th>\n",
       "      <th>Amount</th>\n",
       "      <th>Class</th>\n",
       "    </tr>\n",
       "  </thead>\n",
       "  <tbody>\n",
       "    <tr>\n",
       "      <th>count</th>\n",
       "      <td>284807.000000</td>\n",
       "      <td>2.848070e+05</td>\n",
       "      <td>2.848070e+05</td>\n",
       "      <td>2.848070e+05</td>\n",
       "      <td>2.848070e+05</td>\n",
       "      <td>2.848070e+05</td>\n",
       "      <td>2.848070e+05</td>\n",
       "      <td>2.848070e+05</td>\n",
       "      <td>2.848070e+05</td>\n",
       "      <td>2.848070e+05</td>\n",
       "      <td>...</td>\n",
       "      <td>2.848070e+05</td>\n",
       "      <td>2.848070e+05</td>\n",
       "      <td>2.848070e+05</td>\n",
       "      <td>2.848070e+05</td>\n",
       "      <td>2.848070e+05</td>\n",
       "      <td>2.848070e+05</td>\n",
       "      <td>2.848070e+05</td>\n",
       "      <td>2.848070e+05</td>\n",
       "      <td>284807.000000</td>\n",
       "      <td>284807.000000</td>\n",
       "    </tr>\n",
       "    <tr>\n",
       "      <th>mean</th>\n",
       "      <td>94813.859575</td>\n",
       "      <td>1.168375e-15</td>\n",
       "      <td>3.416908e-16</td>\n",
       "      <td>-1.379537e-15</td>\n",
       "      <td>2.074095e-15</td>\n",
       "      <td>9.604066e-16</td>\n",
       "      <td>1.487313e-15</td>\n",
       "      <td>-5.556467e-16</td>\n",
       "      <td>1.213481e-16</td>\n",
       "      <td>-2.406331e-15</td>\n",
       "      <td>...</td>\n",
       "      <td>1.654067e-16</td>\n",
       "      <td>-3.568593e-16</td>\n",
       "      <td>2.578648e-16</td>\n",
       "      <td>4.473266e-15</td>\n",
       "      <td>5.340915e-16</td>\n",
       "      <td>1.683437e-15</td>\n",
       "      <td>-3.660091e-16</td>\n",
       "      <td>-1.227390e-16</td>\n",
       "      <td>88.349619</td>\n",
       "      <td>0.001727</td>\n",
       "    </tr>\n",
       "    <tr>\n",
       "      <th>std</th>\n",
       "      <td>47488.145955</td>\n",
       "      <td>1.958696e+00</td>\n",
       "      <td>1.651309e+00</td>\n",
       "      <td>1.516255e+00</td>\n",
       "      <td>1.415869e+00</td>\n",
       "      <td>1.380247e+00</td>\n",
       "      <td>1.332271e+00</td>\n",
       "      <td>1.237094e+00</td>\n",
       "      <td>1.194353e+00</td>\n",
       "      <td>1.098632e+00</td>\n",
       "      <td>...</td>\n",
       "      <td>7.345240e-01</td>\n",
       "      <td>7.257016e-01</td>\n",
       "      <td>6.244603e-01</td>\n",
       "      <td>6.056471e-01</td>\n",
       "      <td>5.212781e-01</td>\n",
       "      <td>4.822270e-01</td>\n",
       "      <td>4.036325e-01</td>\n",
       "      <td>3.300833e-01</td>\n",
       "      <td>250.120109</td>\n",
       "      <td>0.041527</td>\n",
       "    </tr>\n",
       "    <tr>\n",
       "      <th>min</th>\n",
       "      <td>0.000000</td>\n",
       "      <td>-5.640751e+01</td>\n",
       "      <td>-7.271573e+01</td>\n",
       "      <td>-4.832559e+01</td>\n",
       "      <td>-5.683171e+00</td>\n",
       "      <td>-1.137433e+02</td>\n",
       "      <td>-2.616051e+01</td>\n",
       "      <td>-4.355724e+01</td>\n",
       "      <td>-7.321672e+01</td>\n",
       "      <td>-1.343407e+01</td>\n",
       "      <td>...</td>\n",
       "      <td>-3.483038e+01</td>\n",
       "      <td>-1.093314e+01</td>\n",
       "      <td>-4.480774e+01</td>\n",
       "      <td>-2.836627e+00</td>\n",
       "      <td>-1.029540e+01</td>\n",
       "      <td>-2.604551e+00</td>\n",
       "      <td>-2.256568e+01</td>\n",
       "      <td>-1.543008e+01</td>\n",
       "      <td>0.000000</td>\n",
       "      <td>0.000000</td>\n",
       "    </tr>\n",
       "    <tr>\n",
       "      <th>25%</th>\n",
       "      <td>54201.500000</td>\n",
       "      <td>-9.203734e-01</td>\n",
       "      <td>-5.985499e-01</td>\n",
       "      <td>-8.903648e-01</td>\n",
       "      <td>-8.486401e-01</td>\n",
       "      <td>-6.915971e-01</td>\n",
       "      <td>-7.682956e-01</td>\n",
       "      <td>-5.540759e-01</td>\n",
       "      <td>-2.086297e-01</td>\n",
       "      <td>-6.430976e-01</td>\n",
       "      <td>...</td>\n",
       "      <td>-2.283949e-01</td>\n",
       "      <td>-5.423504e-01</td>\n",
       "      <td>-1.618463e-01</td>\n",
       "      <td>-3.545861e-01</td>\n",
       "      <td>-3.171451e-01</td>\n",
       "      <td>-3.269839e-01</td>\n",
       "      <td>-7.083953e-02</td>\n",
       "      <td>-5.295979e-02</td>\n",
       "      <td>5.600000</td>\n",
       "      <td>0.000000</td>\n",
       "    </tr>\n",
       "    <tr>\n",
       "      <th>50%</th>\n",
       "      <td>84692.000000</td>\n",
       "      <td>1.810880e-02</td>\n",
       "      <td>6.548556e-02</td>\n",
       "      <td>1.798463e-01</td>\n",
       "      <td>-1.984653e-02</td>\n",
       "      <td>-5.433583e-02</td>\n",
       "      <td>-2.741871e-01</td>\n",
       "      <td>4.010308e-02</td>\n",
       "      <td>2.235804e-02</td>\n",
       "      <td>-5.142873e-02</td>\n",
       "      <td>...</td>\n",
       "      <td>-2.945017e-02</td>\n",
       "      <td>6.781943e-03</td>\n",
       "      <td>-1.119293e-02</td>\n",
       "      <td>4.097606e-02</td>\n",
       "      <td>1.659350e-02</td>\n",
       "      <td>-5.213911e-02</td>\n",
       "      <td>1.342146e-03</td>\n",
       "      <td>1.124383e-02</td>\n",
       "      <td>22.000000</td>\n",
       "      <td>0.000000</td>\n",
       "    </tr>\n",
       "    <tr>\n",
       "      <th>75%</th>\n",
       "      <td>139320.500000</td>\n",
       "      <td>1.315642e+00</td>\n",
       "      <td>8.037239e-01</td>\n",
       "      <td>1.027196e+00</td>\n",
       "      <td>7.433413e-01</td>\n",
       "      <td>6.119264e-01</td>\n",
       "      <td>3.985649e-01</td>\n",
       "      <td>5.704361e-01</td>\n",
       "      <td>3.273459e-01</td>\n",
       "      <td>5.971390e-01</td>\n",
       "      <td>...</td>\n",
       "      <td>1.863772e-01</td>\n",
       "      <td>5.285536e-01</td>\n",
       "      <td>1.476421e-01</td>\n",
       "      <td>4.395266e-01</td>\n",
       "      <td>3.507156e-01</td>\n",
       "      <td>2.409522e-01</td>\n",
       "      <td>9.104512e-02</td>\n",
       "      <td>7.827995e-02</td>\n",
       "      <td>77.165000</td>\n",
       "      <td>0.000000</td>\n",
       "    </tr>\n",
       "    <tr>\n",
       "      <th>max</th>\n",
       "      <td>172792.000000</td>\n",
       "      <td>2.454930e+00</td>\n",
       "      <td>2.205773e+01</td>\n",
       "      <td>9.382558e+00</td>\n",
       "      <td>1.687534e+01</td>\n",
       "      <td>3.480167e+01</td>\n",
       "      <td>7.330163e+01</td>\n",
       "      <td>1.205895e+02</td>\n",
       "      <td>2.000721e+01</td>\n",
       "      <td>1.559499e+01</td>\n",
       "      <td>...</td>\n",
       "      <td>2.720284e+01</td>\n",
       "      <td>1.050309e+01</td>\n",
       "      <td>2.252841e+01</td>\n",
       "      <td>4.584549e+00</td>\n",
       "      <td>7.519589e+00</td>\n",
       "      <td>3.517346e+00</td>\n",
       "      <td>3.161220e+01</td>\n",
       "      <td>3.384781e+01</td>\n",
       "      <td>25691.160000</td>\n",
       "      <td>1.000000</td>\n",
       "    </tr>\n",
       "  </tbody>\n",
       "</table>\n",
       "<p>8 rows × 31 columns</p>\n",
       "</div>"
      ],
      "text/plain": [
       "                Time            V1            V2            V3            V4  \\\n",
       "count  284807.000000  2.848070e+05  2.848070e+05  2.848070e+05  2.848070e+05   \n",
       "mean    94813.859575  1.168375e-15  3.416908e-16 -1.379537e-15  2.074095e-15   \n",
       "std     47488.145955  1.958696e+00  1.651309e+00  1.516255e+00  1.415869e+00   \n",
       "min         0.000000 -5.640751e+01 -7.271573e+01 -4.832559e+01 -5.683171e+00   \n",
       "25%     54201.500000 -9.203734e-01 -5.985499e-01 -8.903648e-01 -8.486401e-01   \n",
       "50%     84692.000000  1.810880e-02  6.548556e-02  1.798463e-01 -1.984653e-02   \n",
       "75%    139320.500000  1.315642e+00  8.037239e-01  1.027196e+00  7.433413e-01   \n",
       "max    172792.000000  2.454930e+00  2.205773e+01  9.382558e+00  1.687534e+01   \n",
       "\n",
       "                 V5            V6            V7            V8            V9  \\\n",
       "count  2.848070e+05  2.848070e+05  2.848070e+05  2.848070e+05  2.848070e+05   \n",
       "mean   9.604066e-16  1.487313e-15 -5.556467e-16  1.213481e-16 -2.406331e-15   \n",
       "std    1.380247e+00  1.332271e+00  1.237094e+00  1.194353e+00  1.098632e+00   \n",
       "min   -1.137433e+02 -2.616051e+01 -4.355724e+01 -7.321672e+01 -1.343407e+01   \n",
       "25%   -6.915971e-01 -7.682956e-01 -5.540759e-01 -2.086297e-01 -6.430976e-01   \n",
       "50%   -5.433583e-02 -2.741871e-01  4.010308e-02  2.235804e-02 -5.142873e-02   \n",
       "75%    6.119264e-01  3.985649e-01  5.704361e-01  3.273459e-01  5.971390e-01   \n",
       "max    3.480167e+01  7.330163e+01  1.205895e+02  2.000721e+01  1.559499e+01   \n",
       "\n",
       "       ...           V21           V22           V23           V24  \\\n",
       "count  ...  2.848070e+05  2.848070e+05  2.848070e+05  2.848070e+05   \n",
       "mean   ...  1.654067e-16 -3.568593e-16  2.578648e-16  4.473266e-15   \n",
       "std    ...  7.345240e-01  7.257016e-01  6.244603e-01  6.056471e-01   \n",
       "min    ... -3.483038e+01 -1.093314e+01 -4.480774e+01 -2.836627e+00   \n",
       "25%    ... -2.283949e-01 -5.423504e-01 -1.618463e-01 -3.545861e-01   \n",
       "50%    ... -2.945017e-02  6.781943e-03 -1.119293e-02  4.097606e-02   \n",
       "75%    ...  1.863772e-01  5.285536e-01  1.476421e-01  4.395266e-01   \n",
       "max    ...  2.720284e+01  1.050309e+01  2.252841e+01  4.584549e+00   \n",
       "\n",
       "                V25           V26           V27           V28         Amount  \\\n",
       "count  2.848070e+05  2.848070e+05  2.848070e+05  2.848070e+05  284807.000000   \n",
       "mean   5.340915e-16  1.683437e-15 -3.660091e-16 -1.227390e-16      88.349619   \n",
       "std    5.212781e-01  4.822270e-01  4.036325e-01  3.300833e-01     250.120109   \n",
       "min   -1.029540e+01 -2.604551e+00 -2.256568e+01 -1.543008e+01       0.000000   \n",
       "25%   -3.171451e-01 -3.269839e-01 -7.083953e-02 -5.295979e-02       5.600000   \n",
       "50%    1.659350e-02 -5.213911e-02  1.342146e-03  1.124383e-02      22.000000   \n",
       "75%    3.507156e-01  2.409522e-01  9.104512e-02  7.827995e-02      77.165000   \n",
       "max    7.519589e+00  3.517346e+00  3.161220e+01  3.384781e+01   25691.160000   \n",
       "\n",
       "               Class  \n",
       "count  284807.000000  \n",
       "mean        0.001727  \n",
       "std         0.041527  \n",
       "min         0.000000  \n",
       "25%         0.000000  \n",
       "50%         0.000000  \n",
       "75%         0.000000  \n",
       "max         1.000000  \n",
       "\n",
       "[8 rows x 31 columns]"
      ]
     },
     "execution_count": 32,
     "metadata": {},
     "output_type": "execute_result"
    }
   ],
   "source": [
    "data.describe()"
   ]
  },
  {
   "cell_type": "markdown",
   "id": "556d4504",
   "metadata": {
    "papermill": {
     "duration": 0.007172,
     "end_time": "2024-06-26T16:26:19.582262",
     "exception": false,
     "start_time": "2024-06-26T16:26:19.575090",
     "status": "completed"
    },
    "tags": []
   },
   "source": [
    " Features V1, V2, … V28 are the principal components obtained with PCA, the only features which have not been transformed with PCA are 'Time' and 'Amount'. Feature 'Time' contains the seconds elapsed between each transaction and the first transaction in the dataset. The feature 'Amount' is the transaction Amount, this feature can be used for example-dependant cost-sensitive learning. Feature 'Class' is the response variable and it takes value 1 in case of fraud and 0 otherwise. "
   ]
  },
  {
   "cell_type": "code",
   "execution_count": 33,
   "id": "927dd6a1",
   "metadata": {
    "execution": {
     "iopub.execute_input": "2024-06-26T16:26:19.599075Z",
     "iopub.status.busy": "2024-06-26T16:26:19.598146Z",
     "iopub.status.idle": "2024-06-26T16:26:20.144712Z",
     "shell.execute_reply": "2024-06-26T16:26:20.143704Z"
    },
    "papermill": {
     "duration": 0.557419,
     "end_time": "2024-06-26T16:26:20.147000",
     "exception": false,
     "start_time": "2024-06-26T16:26:19.589581",
     "status": "completed"
    },
    "tags": []
   },
   "outputs": [
    {
     "data": {
      "image/png": "[encoded data removed]",
      "text/plain": [
       "<Figure size 640x480 with 1 Axes>"
      ]
     },
     "metadata": {},
     "output_type": "display_data"
    }
   ],
   "source": [
    "sns.histplot(data=data,x=\"Time\")\n",
    "plt.title(\"Distribution of time\")\n",
    "plt.show()"
   ]
  },
  {
   "cell_type": "code",
   "execution_count": 34,
   "id": "ed586326",
   "metadata": {
    "execution": {
     "iopub.execute_input": "2024-06-26T16:26:20.165196Z",
     "iopub.status.busy": "2024-06-26T16:26:20.164792Z",
     "iopub.status.idle": "2024-06-26T16:26:20.377585Z",
     "shell.execute_reply": "2024-06-26T16:26:20.376570Z"
    },
    "papermill": {
     "duration": 0.224051,
     "end_time": "2024-06-26T16:26:20.379697",
     "exception": false,
     "start_time": "2024-06-26T16:26:20.155646",
     "status": "completed"
    },
    "tags": []
   },
   "outputs": [
    {
     "data": {
      "image/png": "[encoded data removed]",
      "text/plain": [
       "<Figure size 640x480 with 1 Axes>"
      ]
     },
     "metadata": {},
     "output_type": "display_data"
    }
   ],
   "source": [
    "sns.countplot(data=data,x=\"Class\")\n",
    "plt.title(\"Number of fraud vs legit cards\")\n",
    "plt.show()"
   ]
  },
  {
   "cell_type": "markdown",
   "id": "7ea980f5",
   "metadata": {
    "papermill": {
     "duration": 0.009282,
     "end_time": "2024-06-26T16:26:20.398418",
     "exception": false,
     "start_time": "2024-06-26T16:26:20.389136",
     "status": "completed"
    },
    "tags": []
   },
   "source": [
    "# Initalizing ANN and upsampling data"
   ]
  },
  {
   "cell_type": "code",
   "execution_count": 35,
   "id": "7276ecd8",
   "metadata": {
    "execution": {
     "iopub.execute_input": "2024-06-26T16:26:20.421920Z",
     "iopub.status.busy": "2024-06-26T16:26:20.421008Z",
     "iopub.status.idle": "2024-06-26T16:26:32.565342Z",
     "shell.execute_reply": "2024-06-26T16:26:32.564220Z"
    },
    "papermill": {
     "duration": 12.157486,
     "end_time": "2024-06-26T16:26:32.567778",
     "exception": false,
     "start_time": "2024-06-26T16:26:20.410292",
     "status": "completed"
    },
    "tags": []
   },
   "outputs": [],
   "source": [
    "from sklearn.preprocessing import MinMaxScaler\n",
    "from sklearn.model_selection import train_test_split\n",
    "from sklearn.utils import resample\n",
    "from sklearn.metrics import classification_report,confusion_matrix\n",
    "from tensorflow.keras.models import Sequential\n",
    "from tensorflow.keras.layers import Dense\n",
    "from tensorflow.keras import regularizers"
   ]
  },
  {
   "cell_type": "code",
   "execution_count": 36,
   "id": "ca37b073",
   "metadata": {
    "execution": {
     "iopub.execute_input": "2024-06-26T16:26:32.587693Z",
     "iopub.status.busy": "2024-06-26T16:26:32.586199Z",
     "iopub.status.idle": "2024-06-26T16:26:32.684461Z",
     "shell.execute_reply": "2024-06-26T16:26:32.683467Z"
    },
    "papermill": {
     "duration": 0.110016,
     "end_time": "2024-06-26T16:26:32.686449",
     "exception": false,
     "start_time": "2024-06-26T16:26:32.576433",
     "status": "completed"
    },
    "tags": []
   },
   "outputs": [
    {
     "data": {
      "text/html": [
       "<pre style=\"white-space:pre;overflow-x:auto;line-height:normal;font-family:Menlo,'DejaVu Sans Mono',consolas,'Courier New',monospace\"><span style=\"font-weight: bold\">Model: \"sequential_1\"</span>\n",
       "</pre>\n"
      ],
      "text/plain": [
       "\u001b[1mModel: \"sequential_1\"\u001b[0m\n"
      ]
     },
     "metadata": {},
     "output_type": "display_data"
    },
    {
     "data": {
      "text/html": [
       "<pre style=\"white-space:pre;overflow-x:auto;line-height:normal;font-family:Menlo,'DejaVu Sans Mono',consolas,'Courier New',monospace\">┏━━━━━━━━━━━━━━━━━━━━━━━━━━━━━━━━━┳━━━━━━━━━━━━━━━━━━━━━━━━┳━━━━━━━━━━━━━━━┓\n",
       "┃<span style=\"font-weight: bold\"> Layer (type)                    </span>┃<span style=\"font-weight: bold\"> Output Shape           </span>┃<span style=\"font-weight: bold\">       Param # </span>┃\n",
       "┡━━━━━━━━━━━━━━━━━━━━━━━━━━━━━━━━━╇━━━━━━━━━━━━━━━━━━━━━━━━╇━━━━━━━━━━━━━━━┩\n",
       "│ dense_3 (<span style=\"color: #0087ff; text-decoration-color: #0087ff\">Dense</span>)                 │ (<span style=\"color: #00d7ff; text-decoration-color: #00d7ff\">None</span>, <span style=\"color: #00af00; text-decoration-color: #00af00\">100</span>)            │         <span style=\"color: #00af00; text-decoration-color: #00af00\">3,100</span> │\n",
       "├─────────────────────────────────┼────────────────────────┼───────────────┤\n",
       "│ dense_4 (<span style=\"color: #0087ff; text-decoration-color: #0087ff\">Dense</span>)                 │ (<span style=\"color: #00d7ff; text-decoration-color: #00d7ff\">None</span>, <span style=\"color: #00af00; text-decoration-color: #00af00\">64</span>)             │         <span style=\"color: #00af00; text-decoration-color: #00af00\">6,464</span> │\n",
       "├─────────────────────────────────┼────────────────────────┼───────────────┤\n",
       "│ dense_5 (<span style=\"color: #0087ff; text-decoration-color: #0087ff\">Dense</span>)                 │ (<span style=\"color: #00d7ff; text-decoration-color: #00d7ff\">None</span>, <span style=\"color: #00af00; text-decoration-color: #00af00\">1</span>)              │            <span style=\"color: #00af00; text-decoration-color: #00af00\">65</span> │\n",
       "└─────────────────────────────────┴────────────────────────┴───────────────┘\n",
       "</pre>\n"
      ],
      "text/plain": [
       "┏━━━━━━━━━━━━━━━━━━━━━━━━━━━━━━━━━┳━━━━━━━━━━━━━━━━━━━━━━━━┳━━━━━━━━━━━━━━━┓\n",
       "┃\u001b[1m \u001b[0m\u001b[1mLayer (type)                   \u001b[0m\u001b[1m \u001b[0m┃\u001b[1m \u001b[0m\u001b[1mOutput Shape          \u001b[0m\u001b[1m \u001b[0m┃\u001b[1m \u001b[0m\u001b[1m      Param #\u001b[0m\u001b[1m \u001b[0m┃\n",
       "┡━━━━━━━━━━━━━━━━━━━━━━━━━━━━━━━━━╇━━━━━━━━━━━━━━━━━━━━━━━━╇━━━━━━━━━━━━━━━┩\n",
       "│ dense_3 (\u001b[38;5;33mDense\u001b[0m)                 │ (\u001b[38;5;45mNone\u001b[0m, \u001b[38;5;34m100\u001b[0m)            │         \u001b[38;5;34m3,100\u001b[0m │\n",
       "├─────────────────────────────────┼────────────────────────┼───────────────┤\n",
       "│ dense_4 (\u001b[38;5;33mDense\u001b[0m)                 │ (\u001b[38;5;45mNone\u001b[0m, \u001b[38;5;34m64\u001b[0m)             │         \u001b[38;5;34m6,464\u001b[0m │\n",
       "├─────────────────────────────────┼────────────────────────┼───────────────┤\n",
       "│ dense_5 (\u001b[38;5;33mDense\u001b[0m)                 │ (\u001b[38;5;45mNone\u001b[0m, \u001b[38;5;34m1\u001b[0m)              │            \u001b[38;5;34m65\u001b[0m │\n",
       "└─────────────────────────────────┴────────────────────────┴───────────────┘\n"
      ]
     },
     "metadata": {},
     "output_type": "display_data"
    },
    {
     "data": {
      "text/html": [
       "<pre style=\"white-space:pre;overflow-x:auto;line-height:normal;font-family:Menlo,'DejaVu Sans Mono',consolas,'Courier New',monospace\"><span style=\"font-weight: bold\"> Total params: </span><span style=\"color: #00af00; text-decoration-color: #00af00\">9,629</span> (37.61 KB)\n",
       "</pre>\n"
      ],
      "text/plain": [
       "\u001b[1m Total params: \u001b[0m\u001b[38;5;34m9,629\u001b[0m (37.61 KB)\n"
      ]
     },
     "metadata": {},
     "output_type": "display_data"
    },
    {
     "data": {
      "text/html": [
       "<pre style=\"white-space:pre;overflow-x:auto;line-height:normal;font-family:Menlo,'DejaVu Sans Mono',consolas,'Courier New',monospace\"><span style=\"font-weight: bold\"> Trainable params: </span><span style=\"color: #00af00; text-decoration-color: #00af00\">9,629</span> (37.61 KB)\n",
       "</pre>\n"
      ],
      "text/plain": [
       "\u001b[1m Trainable params: \u001b[0m\u001b[38;5;34m9,629\u001b[0m (37.61 KB)\n"
      ]
     },
     "metadata": {},
     "output_type": "display_data"
    },
    {
     "data": {
      "text/html": [
       "<pre style=\"white-space:pre;overflow-x:auto;line-height:normal;font-family:Menlo,'DejaVu Sans Mono',consolas,'Courier New',monospace\"><span style=\"font-weight: bold\"> Non-trainable params: </span><span style=\"color: #00af00; text-decoration-color: #00af00\">0</span> (0.00 B)\n",
       "</pre>\n"
      ],
      "text/plain": [
       "\u001b[1m Non-trainable params: \u001b[0m\u001b[38;5;34m0\u001b[0m (0.00 B)\n"
      ]
     },
     "metadata": {},
     "output_type": "display_data"
    }
   ],
   "source": [
    "ann_model  = Sequential([\n",
    "    Dense(100,activation=\"relu\",input_shape=(30,),kernel_regularizer=regularizers.l1_l2(l1=1e-5, l2=1e-4)),\n",
    "    Dense(64,activation=\"relu\",kernel_regularizer=regularizers.l1_l2(l1=1e-5, l2=1e-4)),\n",
    "    Dense(1,activation=\"sigmoid\")\n",
    "])\n",
    "\n",
    "ann_model.compile(optimizer = 'adam',loss='binary_crossentropy',metrics=['accuracy'])\n",
    "ann_model.summary()"
   ]
  },
  {
   "cell_type": "code",
   "execution_count": 37,
   "id": "c1a57859",
   "metadata": {
    "execution": {
     "iopub.execute_input": "2024-06-26T16:26:32.706586Z",
     "iopub.status.busy": "2024-06-26T16:26:32.705912Z",
     "iopub.status.idle": "2024-06-26T16:26:32.712366Z",
     "shell.execute_reply": "2024-06-26T16:26:32.711401Z"
    },
    "papermill": {
     "duration": 0.019092,
     "end_time": "2024-06-26T16:26:32.714431",
     "exception": false,
     "start_time": "2024-06-26T16:26:32.695339",
     "status": "completed"
    },
    "tags": []
   },
   "outputs": [
    {
     "data": {
      "text/plain": [
       "(284807, 31)"
      ]
     },
     "execution_count": 37,
     "metadata": {},
     "output_type": "execute_result"
    }
   ],
   "source": [
    "data.shape"
   ]
  },
  {
   "cell_type": "code",
   "execution_count": 38,
   "id": "512d50e0",
   "metadata": {
    "execution": {
     "iopub.execute_input": "2024-06-26T16:26:32.735016Z",
     "iopub.status.busy": "2024-06-26T16:26:32.734081Z",
     "iopub.status.idle": "2024-06-26T16:26:33.012769Z",
     "shell.execute_reply": "2024-06-26T16:26:33.011632Z"
    },
    "papermill": {
     "duration": 0.291755,
     "end_time": "2024-06-26T16:26:33.015361",
     "exception": false,
     "start_time": "2024-06-26T16:26:32.723606",
     "status": "completed"
    },
    "tags": []
   },
   "outputs": [],
   "source": [
    "fraud = data[data[\"Class\"]==1]\n",
    "no_fraud = data[data[\"Class\"]==0]\n",
    "upsampled_fraud = resample(fraud,replace=True,n_samples=no_fraud.shape[0],random_state=42)\n",
    "upsampled_data = pd.concat([no_fraud,upsampled_fraud])\n",
    "upsampled_data = upsampled_data.sample(frac=1)"
   ]
  },
  {
   "cell_type": "code",
   "execution_count": 39,
   "id": "5c719f3d",
   "metadata": {
    "execution": {
     "iopub.execute_input": "2024-06-26T16:26:33.035749Z",
     "iopub.status.busy": "2024-06-26T16:26:33.035017Z",
     "iopub.status.idle": "2024-06-26T16:26:33.048496Z",
     "shell.execute_reply": "2024-06-26T16:26:33.047491Z"
    },
    "papermill": {
     "duration": 0.02583,
     "end_time": "2024-06-26T16:26:33.050616",
     "exception": false,
     "start_time": "2024-06-26T16:26:33.024786",
     "status": "completed"
    },
    "tags": []
   },
   "outputs": [
    {
     "data": {
      "text/plain": [
       "Class\n",
       "0    284315\n",
       "1    284315\n",
       "Name: count, dtype: int64"
      ]
     },
     "execution_count": 39,
     "metadata": {},
     "output_type": "execute_result"
    }
   ],
   "source": [
    "upsampled_data.Class.value_counts()"
   ]
  },
  {
   "cell_type": "code",
   "execution_count": 40,
   "id": "bc1b32b6",
   "metadata": {
    "execution": {
     "iopub.execute_input": "2024-06-26T16:26:33.071171Z",
     "iopub.status.busy": "2024-06-26T16:26:33.070445Z",
     "iopub.status.idle": "2024-06-26T16:26:33.120060Z",
     "shell.execute_reply": "2024-06-26T16:26:33.119187Z"
    },
    "papermill": {
     "duration": 0.062565,
     "end_time": "2024-06-26T16:26:33.122518",
     "exception": false,
     "start_time": "2024-06-26T16:26:33.059953",
     "status": "completed"
    },
    "tags": []
   },
   "outputs": [],
   "source": [
    "X = upsampled_data.drop(columns=\"Class\")\n",
    "y = upsampled_data[\"Class\"]"
   ]
  },
  {
   "cell_type": "markdown",
   "id": "a749b491",
   "metadata": {
    "papermill": {
     "duration": 0.008865,
     "end_time": "2024-06-26T16:26:33.140685",
     "exception": false,
     "start_time": "2024-06-26T16:26:33.131820",
     "status": "completed"
    },
    "tags": []
   },
   "source": [
    "## Normalizing data using minmax scaler"
   ]
  },
  {
   "cell_type": "code",
   "execution_count": 41,
   "id": "c2014ee3",
   "metadata": {
    "execution": {
     "iopub.execute_input": "2024-06-26T16:26:33.160731Z",
     "iopub.status.busy": "2024-06-26T16:26:33.160037Z",
     "iopub.status.idle": "2024-06-26T16:26:33.322215Z",
     "shell.execute_reply": "2024-06-26T16:26:33.321337Z"
    },
    "papermill": {
     "duration": 0.174848,
     "end_time": "2024-06-26T16:26:33.324634",
     "exception": false,
     "start_time": "2024-06-26T16:26:33.149786",
     "status": "completed"
    },
    "tags": []
   },
   "outputs": [],
   "source": [
    "scaler = MinMaxScaler()\n",
    "scaler.fit(X)\n",
    "X.loc[:,:] = scaler.transform(X.loc[:,:])"
   ]
  },
  {
   "cell_type": "code",
   "execution_count": 42,
   "id": "cc047b57",
   "metadata": {
    "execution": {
     "iopub.execute_input": "2024-06-26T16:26:33.345246Z",
     "iopub.status.busy": "2024-06-26T16:26:33.344428Z",
     "iopub.status.idle": "2024-06-26T16:26:33.451704Z",
     "shell.execute_reply": "2024-06-26T16:26:33.450707Z"
    },
    "papermill": {
     "duration": 0.120244,
     "end_time": "2024-06-26T16:26:33.454296",
     "exception": false,
     "start_time": "2024-06-26T16:26:33.334052",
     "status": "completed"
    },
    "tags": []
   },
   "outputs": [
    {
     "data": {
      "text/html": [
       "<div>\n",
       "<style scoped>\n",
       "    .dataframe tbody tr th:only-of-type {\n",
       "        vertical-align: middle;\n",
       "    }\n",
       "\n",
       "    .dataframe tbody tr th {\n",
       "        vertical-align: top;\n",
       "    }\n",
       "\n",
       "    .dataframe thead th {\n",
       "        text-align: right;\n",
       "    }\n",
       "</style>\n",
       "<table border=\"1\" class=\"dataframe\">\n",
       "  <thead>\n",
       "    <tr style=\"text-align: right;\">\n",
       "      <th></th>\n",
       "      <th>Time</th>\n",
       "      <th>V1</th>\n",
       "      <th>V2</th>\n",
       "      <th>V3</th>\n",
       "      <th>V4</th>\n",
       "      <th>V5</th>\n",
       "      <th>V6</th>\n",
       "      <th>V7</th>\n",
       "      <th>V8</th>\n",
       "      <th>V9</th>\n",
       "      <th>...</th>\n",
       "      <th>V20</th>\n",
       "      <th>V21</th>\n",
       "      <th>V22</th>\n",
       "      <th>V23</th>\n",
       "      <th>V24</th>\n",
       "      <th>V25</th>\n",
       "      <th>V26</th>\n",
       "      <th>V27</th>\n",
       "      <th>V28</th>\n",
       "      <th>Amount</th>\n",
       "    </tr>\n",
       "  </thead>\n",
       "  <tbody>\n",
       "    <tr>\n",
       "      <th>210971</th>\n",
       "      <td>0.799858</td>\n",
       "      <td>0.942864</td>\n",
       "      <td>0.759361</td>\n",
       "      <td>0.822624</td>\n",
       "      <td>0.298954</td>\n",
       "      <td>0.760989</td>\n",
       "      <td>0.268373</td>\n",
       "      <td>0.274349</td>\n",
       "      <td>0.789179</td>\n",
       "      <td>0.465059</td>\n",
       "      <td>...</td>\n",
       "      <td>0.588722</td>\n",
       "      <td>0.564501</td>\n",
       "      <td>0.493911</td>\n",
       "      <td>0.689755</td>\n",
       "      <td>0.428068</td>\n",
       "      <td>0.461823</td>\n",
       "      <td>0.199151</td>\n",
       "      <td>0.419658</td>\n",
       "      <td>0.319136</td>\n",
       "      <td>0.017767</td>\n",
       "    </tr>\n",
       "    <tr>\n",
       "      <th>133904</th>\n",
       "      <td>0.466277</td>\n",
       "      <td>0.973356</td>\n",
       "      <td>0.758166</td>\n",
       "      <td>0.854072</td>\n",
       "      <td>0.268896</td>\n",
       "      <td>0.756778</td>\n",
       "      <td>0.259844</td>\n",
       "      <td>0.262913</td>\n",
       "      <td>0.785247</td>\n",
       "      <td>0.501470</td>\n",
       "      <td>...</td>\n",
       "      <td>0.583369</td>\n",
       "      <td>0.559430</td>\n",
       "      <td>0.488217</td>\n",
       "      <td>0.664354</td>\n",
       "      <td>0.448573</td>\n",
       "      <td>0.582874</td>\n",
       "      <td>0.576185</td>\n",
       "      <td>0.415351</td>\n",
       "      <td>0.314029</td>\n",
       "      <td>0.006882</td>\n",
       "    </tr>\n",
       "    <tr>\n",
       "      <th>46998</th>\n",
       "      <td>0.249016</td>\n",
       "      <td>0.939442</td>\n",
       "      <td>0.775816</td>\n",
       "      <td>0.817691</td>\n",
       "      <td>0.293390</td>\n",
       "      <td>0.750029</td>\n",
       "      <td>0.261852</td>\n",
       "      <td>0.255474</td>\n",
       "      <td>0.790299</td>\n",
       "      <td>0.431357</td>\n",
       "      <td>...</td>\n",
       "      <td>0.582064</td>\n",
       "      <td>0.571822</td>\n",
       "      <td>0.549299</td>\n",
       "      <td>0.668058</td>\n",
       "      <td>0.393149</td>\n",
       "      <td>0.563374</td>\n",
       "      <td>0.541042</td>\n",
       "      <td>0.424238</td>\n",
       "      <td>0.314763</td>\n",
       "      <td>0.007951</td>\n",
       "    </tr>\n",
       "    <tr>\n",
       "      <th>2864</th>\n",
       "      <td>0.014046</td>\n",
       "      <td>0.916882</td>\n",
       "      <td>0.746651</td>\n",
       "      <td>0.860472</td>\n",
       "      <td>0.352995</td>\n",
       "      <td>0.784038</td>\n",
       "      <td>0.248682</td>\n",
       "      <td>0.258357</td>\n",
       "      <td>0.788631</td>\n",
       "      <td>0.450181</td>\n",
       "      <td>...</td>\n",
       "      <td>0.577899</td>\n",
       "      <td>0.560483</td>\n",
       "      <td>0.493616</td>\n",
       "      <td>0.669322</td>\n",
       "      <td>0.379960</td>\n",
       "      <td>0.516651</td>\n",
       "      <td>0.340318</td>\n",
       "      <td>0.418626</td>\n",
       "      <td>0.322886</td>\n",
       "      <td>0.001599</td>\n",
       "    </tr>\n",
       "    <tr>\n",
       "      <th>8717</th>\n",
       "      <td>0.068545</td>\n",
       "      <td>0.918521</td>\n",
       "      <td>0.757990</td>\n",
       "      <td>0.872549</td>\n",
       "      <td>0.223872</td>\n",
       "      <td>0.773963</td>\n",
       "      <td>0.264463</td>\n",
       "      <td>0.266720</td>\n",
       "      <td>0.784693</td>\n",
       "      <td>0.517266</td>\n",
       "      <td>...</td>\n",
       "      <td>0.574811</td>\n",
       "      <td>0.557112</td>\n",
       "      <td>0.521409</td>\n",
       "      <td>0.673377</td>\n",
       "      <td>0.347233</td>\n",
       "      <td>0.603761</td>\n",
       "      <td>0.589472</td>\n",
       "      <td>0.405203</td>\n",
       "      <td>0.315570</td>\n",
       "      <td>0.000191</td>\n",
       "    </tr>\n",
       "    <tr>\n",
       "      <th>...</th>\n",
       "      <td>...</td>\n",
       "      <td>...</td>\n",
       "      <td>...</td>\n",
       "      <td>...</td>\n",
       "      <td>...</td>\n",
       "      <td>...</td>\n",
       "      <td>...</td>\n",
       "      <td>...</td>\n",
       "      <td>...</td>\n",
       "      <td>...</td>\n",
       "      <td>...</td>\n",
       "      <td>...</td>\n",
       "      <td>...</td>\n",
       "      <td>...</td>\n",
       "      <td>...</td>\n",
       "      <td>...</td>\n",
       "      <td>...</td>\n",
       "      <td>...</td>\n",
       "      <td>...</td>\n",
       "      <td>...</td>\n",
       "      <td>...</td>\n",
       "    </tr>\n",
       "    <tr>\n",
       "      <th>156990</th>\n",
       "      <td>0.632541</td>\n",
       "      <td>0.941295</td>\n",
       "      <td>0.802573</td>\n",
       "      <td>0.741509</td>\n",
       "      <td>0.554956</td>\n",
       "      <td>0.763698</td>\n",
       "      <td>0.263984</td>\n",
       "      <td>0.250488</td>\n",
       "      <td>0.799183</td>\n",
       "      <td>0.367481</td>\n",
       "      <td>...</td>\n",
       "      <td>0.592934</td>\n",
       "      <td>0.568569</td>\n",
       "      <td>0.477651</td>\n",
       "      <td>0.669884</td>\n",
       "      <td>0.293623</td>\n",
       "      <td>0.583612</td>\n",
       "      <td>0.495763</td>\n",
       "      <td>0.431733</td>\n",
       "      <td>0.319759</td>\n",
       "      <td>0.007245</td>\n",
       "    </tr>\n",
       "    <tr>\n",
       "      <th>82362</th>\n",
       "      <td>0.343610</td>\n",
       "      <td>0.958900</td>\n",
       "      <td>0.748364</td>\n",
       "      <td>0.819730</td>\n",
       "      <td>0.281733</td>\n",
       "      <td>0.764842</td>\n",
       "      <td>0.265709</td>\n",
       "      <td>0.271897</td>\n",
       "      <td>0.783727</td>\n",
       "      <td>0.445933</td>\n",
       "      <td>...</td>\n",
       "      <td>0.593077</td>\n",
       "      <td>0.561862</td>\n",
       "      <td>0.444904</td>\n",
       "      <td>0.657974</td>\n",
       "      <td>0.273104</td>\n",
       "      <td>0.581920</td>\n",
       "      <td>0.447652</td>\n",
       "      <td>0.413354</td>\n",
       "      <td>0.315107</td>\n",
       "      <td>0.024894</td>\n",
       "    </tr>\n",
       "    <tr>\n",
       "      <th>108946</th>\n",
       "      <td>0.411755</td>\n",
       "      <td>0.924259</td>\n",
       "      <td>0.781648</td>\n",
       "      <td>0.861249</td>\n",
       "      <td>0.270047</td>\n",
       "      <td>0.762314</td>\n",
       "      <td>0.268610</td>\n",
       "      <td>0.258573</td>\n",
       "      <td>0.767617</td>\n",
       "      <td>0.443398</td>\n",
       "      <td>...</td>\n",
       "      <td>0.572868</td>\n",
       "      <td>0.599061</td>\n",
       "      <td>0.470715</td>\n",
       "      <td>0.665891</td>\n",
       "      <td>0.379516</td>\n",
       "      <td>0.574094</td>\n",
       "      <td>0.496780</td>\n",
       "      <td>0.416105</td>\n",
       "      <td>0.311998</td>\n",
       "      <td>0.000389</td>\n",
       "    </tr>\n",
       "    <tr>\n",
       "      <th>17317</th>\n",
       "      <td>0.165662</td>\n",
       "      <td>0.485188</td>\n",
       "      <td>0.931842</td>\n",
       "      <td>0.336206</td>\n",
       "      <td>0.536454</td>\n",
       "      <td>0.628746</td>\n",
       "      <td>0.214477</td>\n",
       "      <td>0.148321</td>\n",
       "      <td>0.982002</td>\n",
       "      <td>0.336398</td>\n",
       "      <td>...</td>\n",
       "      <td>0.598343</td>\n",
       "      <td>0.590531</td>\n",
       "      <td>0.413795</td>\n",
       "      <td>0.646575</td>\n",
       "      <td>0.404523</td>\n",
       "      <td>0.690143</td>\n",
       "      <td>0.390972</td>\n",
       "      <td>0.440964</td>\n",
       "      <td>0.320999</td>\n",
       "      <td>0.003892</td>\n",
       "    </tr>\n",
       "    <tr>\n",
       "      <th>7638</th>\n",
       "      <td>0.061172</td>\n",
       "      <td>0.980312</td>\n",
       "      <td>0.767066</td>\n",
       "      <td>0.845899</td>\n",
       "      <td>0.253380</td>\n",
       "      <td>0.762183</td>\n",
       "      <td>0.256182</td>\n",
       "      <td>0.263302</td>\n",
       "      <td>0.783469</td>\n",
       "      <td>0.525234</td>\n",
       "      <td>...</td>\n",
       "      <td>0.579165</td>\n",
       "      <td>0.556344</td>\n",
       "      <td>0.476505</td>\n",
       "      <td>0.665994</td>\n",
       "      <td>0.359567</td>\n",
       "      <td>0.585714</td>\n",
       "      <td>0.572416</td>\n",
       "      <td>0.414571</td>\n",
       "      <td>0.313098</td>\n",
       "      <td>0.000643</td>\n",
       "    </tr>\n",
       "  </tbody>\n",
       "</table>\n",
       "<p>568630 rows × 30 columns</p>\n",
       "</div>"
      ],
      "text/plain": [
       "            Time        V1        V2        V3        V4        V5        V6  \\\n",
       "210971  0.799858  0.942864  0.759361  0.822624  0.298954  0.760989  0.268373   \n",
       "133904  0.466277  0.973356  0.758166  0.854072  0.268896  0.756778  0.259844   \n",
       "46998   0.249016  0.939442  0.775816  0.817691  0.293390  0.750029  0.261852   \n",
       "2864    0.014046  0.916882  0.746651  0.860472  0.352995  0.784038  0.248682   \n",
       "8717    0.068545  0.918521  0.757990  0.872549  0.223872  0.773963  0.264463   \n",
       "...          ...       ...       ...       ...       ...       ...       ...   \n",
       "156990  0.632541  0.941295  0.802573  0.741509  0.554956  0.763698  0.263984   \n",
       "82362   0.343610  0.958900  0.748364  0.819730  0.281733  0.764842  0.265709   \n",
       "108946  0.411755  0.924259  0.781648  0.861249  0.270047  0.762314  0.268610   \n",
       "17317   0.165662  0.485188  0.931842  0.336206  0.536454  0.628746  0.214477   \n",
       "7638    0.061172  0.980312  0.767066  0.845899  0.253380  0.762183  0.256182   \n",
       "\n",
       "              V7        V8        V9  ...       V20       V21       V22  \\\n",
       "210971  0.274349  0.789179  0.465059  ...  0.588722  0.564501  0.493911   \n",
       "133904  0.262913  0.785247  0.501470  ...  0.583369  0.559430  0.488217   \n",
       "46998   0.255474  0.790299  0.431357  ...  0.582064  0.571822  0.549299   \n",
       "2864    0.258357  0.788631  0.450181  ...  0.577899  0.560483  0.493616   \n",
       "8717    0.266720  0.784693  0.517266  ...  0.574811  0.557112  0.521409   \n",
       "...          ...       ...       ...  ...       ...       ...       ...   \n",
       "156990  0.250488  0.799183  0.367481  ...  0.592934  0.568569  0.477651   \n",
       "82362   0.271897  0.783727  0.445933  ...  0.593077  0.561862  0.444904   \n",
       "108946  0.258573  0.767617  0.443398  ...  0.572868  0.599061  0.470715   \n",
       "17317   0.148321  0.982002  0.336398  ...  0.598343  0.590531  0.413795   \n",
       "7638    0.263302  0.783469  0.525234  ...  0.579165  0.556344  0.476505   \n",
       "\n",
       "             V23       V24       V25       V26       V27       V28    Amount  \n",
       "210971  0.689755  0.428068  0.461823  0.199151  0.419658  0.319136  0.017767  \n",
       "133904  0.664354  0.448573  0.582874  0.576185  0.415351  0.314029  0.006882  \n",
       "46998   0.668058  0.393149  0.563374  0.541042  0.424238  0.314763  0.007951  \n",
       "2864    0.669322  0.379960  0.516651  0.340318  0.418626  0.322886  0.001599  \n",
       "8717    0.673377  0.347233  0.603761  0.589472  0.405203  0.315570  0.000191  \n",
       "...          ...       ...       ...       ...       ...       ...       ...  \n",
       "156990  0.669884  0.293623  0.583612  0.495763  0.431733  0.319759  0.007245  \n",
       "82362   0.657974  0.273104  0.581920  0.447652  0.413354  0.315107  0.024894  \n",
       "108946  0.665891  0.379516  0.574094  0.496780  0.416105  0.311998  0.000389  \n",
       "17317   0.646575  0.404523  0.690143  0.390972  0.440964  0.320999  0.003892  \n",
       "7638    0.665994  0.359567  0.585714  0.572416  0.414571  0.313098  0.000643  \n",
       "\n",
       "[568630 rows x 30 columns]"
      ]
     },
     "execution_count": 42,
     "metadata": {},
     "output_type": "execute_result"
    }
   ],
   "source": [
    "X"
   ]
  },
  {
   "cell_type": "markdown",
   "id": "525e3cf2",
   "metadata": {
    "papermill": {
     "duration": 0.009553,
     "end_time": "2024-06-26T16:26:33.473718",
     "exception": false,
     "start_time": "2024-06-26T16:26:33.464165",
     "status": "completed"
    },
    "tags": []
   },
   "source": [
    "# Training ANN and evaluating"
   ]
  },
  {
   "cell_type": "code",
   "execution_count": 43,
   "id": "bf6ef6e5",
   "metadata": {
    "execution": {
     "iopub.execute_input": "2024-06-26T16:26:33.495079Z",
     "iopub.status.busy": "2024-06-26T16:26:33.494259Z",
     "iopub.status.idle": "2024-06-26T16:26:33.677229Z",
     "shell.execute_reply": "2024-06-26T16:26:33.676251Z"
    },
    "papermill": {
     "duration": 0.19603,
     "end_time": "2024-06-26T16:26:33.679526",
     "exception": false,
     "start_time": "2024-06-26T16:26:33.483496",
     "status": "completed"
    },
    "tags": []
   },
   "outputs": [],
   "source": [
    "X_train,X_test,y_train,y_test = train_test_split(X,y,random_state=7,test_size=0.2,shuffle=True)"
   ]
  },
  {
   "cell_type": "code",
   "execution_count": 44,
   "id": "9bb73887",
   "metadata": {
    "execution": {
     "iopub.execute_input": "2024-06-26T16:26:33.700619Z",
     "iopub.status.busy": "2024-06-26T16:26:33.700258Z",
     "iopub.status.idle": "2024-06-26T16:30:58.633977Z",
     "shell.execute_reply": "2024-06-26T16:30:58.632866Z"
    },
    "papermill": {
     "duration": 264.947144,
     "end_time": "2024-06-26T16:30:58.636521",
     "exception": false,
     "start_time": "2024-06-26T16:26:33.689377",
     "status": "completed"
    },
    "tags": []
   },
   "outputs": [
    {
     "name": "stdout",
     "output_type": "stream",
     "text": [
      "Epoch 1/15\n",
      "\u001b[1m11373/11373\u001b[0m \u001b[32m━━━━━━━━━━━━━━━━━━━━\u001b[0m\u001b[37m\u001b[0m \u001b[1m19s\u001b[0m 2ms/step - accuracy: 0.9294 - loss: 0.2020 - val_accuracy: 0.9380 - val_loss: 0.1632\n",
      "Epoch 2/15\n",
      "\u001b[1m11373/11373\u001b[0m \u001b[32m━━━━━━━━━━━━━━━━━━━━\u001b[0m\u001b[37m\u001b[0m \u001b[1m16s\u001b[0m 1ms/step - accuracy: 0.9440 - loss: 0.1535 - val_accuracy: 0.9483 - val_loss: 0.1351\n",
      "Epoch 3/15\n",
      "\u001b[1m11373/11373\u001b[0m \u001b[32m━━━━━━━━━━━━━━━━━━━━\u001b[0m\u001b[37m\u001b[0m \u001b[1m19s\u001b[0m 2ms/step - accuracy: 0.9504 - loss: 0.1359 - val_accuracy: 0.9560 - val_loss: 0.1170\n",
      "Epoch 4/15\n",
      "\u001b[1m11373/11373\u001b[0m \u001b[32m━━━━━━━━━━━━━━━━━━━━\u001b[0m\u001b[37m\u001b[0m \u001b[1m17s\u001b[0m 1ms/step - accuracy: 0.9546 - loss: 0.1230 - val_accuracy: 0.9576 - val_loss: 0.1090\n",
      "Epoch 5/15\n",
      "\u001b[1m11373/11373\u001b[0m \u001b[32m━━━━━━━━━━━━━━━━━━━━\u001b[0m\u001b[37m\u001b[0m \u001b[1m18s\u001b[0m 2ms/step - accuracy: 0.9576 - loss: 0.1135 - val_accuracy: 0.9603 - val_loss: 0.1104\n",
      "Epoch 6/15\n",
      "\u001b[1m11373/11373\u001b[0m \u001b[32m━━━━━━━━━━━━━━━━━━━━\u001b[0m\u001b[37m\u001b[0m \u001b[1m15s\u001b[0m 1ms/step - accuracy: 0.9589 - loss: 0.1089 - val_accuracy: 0.9576 - val_loss: 0.1173\n",
      "Epoch 7/15\n",
      "\u001b[1m11373/11373\u001b[0m \u001b[32m━━━━━━━━━━━━━━━━━━━━\u001b[0m\u001b[37m\u001b[0m \u001b[1m14s\u001b[0m 1ms/step - accuracy: 0.9624 - loss: 0.1016 - val_accuracy: 0.9605 - val_loss: 0.1016\n",
      "Epoch 8/15\n",
      "\u001b[1m11373/11373\u001b[0m \u001b[32m━━━━━━━━━━━━━━━━━━━━\u001b[0m\u001b[37m\u001b[0m \u001b[1m15s\u001b[0m 1ms/step - accuracy: 0.9648 - loss: 0.0957 - val_accuracy: 0.9734 - val_loss: 0.0805\n",
      "Epoch 9/15\n",
      "\u001b[1m11373/11373\u001b[0m \u001b[32m━━━━━━━━━━━━━━━━━━━━\u001b[0m\u001b[37m\u001b[0m \u001b[1m14s\u001b[0m 1ms/step - accuracy: 0.9679 - loss: 0.0898 - val_accuracy: 0.9748 - val_loss: 0.0795\n",
      "Epoch 10/15\n",
      "\u001b[1m11373/11373\u001b[0m \u001b[32m━━━━━━━━━━━━━━━━━━━━\u001b[0m\u001b[37m\u001b[0m \u001b[1m14s\u001b[0m 1ms/step - accuracy: 0.9695 - loss: 0.0861 - val_accuracy: 0.9761 - val_loss: 0.0773\n",
      "Epoch 11/15\n",
      "\u001b[1m11373/11373\u001b[0m \u001b[32m━━━━━━━━━━━━━━━━━━━━\u001b[0m\u001b[37m\u001b[0m \u001b[1m14s\u001b[0m 1ms/step - accuracy: 0.9718 - loss: 0.0812 - val_accuracy: 0.9704 - val_loss: 0.0811\n",
      "Epoch 12/15\n",
      "\u001b[1m11373/11373\u001b[0m \u001b[32m━━━━━━━━━━━━━━━━━━━━\u001b[0m\u001b[37m\u001b[0m \u001b[1m14s\u001b[0m 1ms/step - accuracy: 0.9731 - loss: 0.0777 - val_accuracy: 0.9822 - val_loss: 0.0632\n",
      "Epoch 13/15\n",
      "\u001b[1m11373/11373\u001b[0m \u001b[32m━━━━━━━━━━━━━━━━━━━━\u001b[0m\u001b[37m\u001b[0m \u001b[1m14s\u001b[0m 1ms/step - accuracy: 0.9762 - loss: 0.0735 - val_accuracy: 0.9767 - val_loss: 0.0740\n",
      "Epoch 14/15\n",
      "\u001b[1m11373/11373\u001b[0m \u001b[32m━━━━━━━━━━━━━━━━━━━━\u001b[0m\u001b[37m\u001b[0m \u001b[1m14s\u001b[0m 1ms/step - accuracy: 0.9760 - loss: 0.0726 - val_accuracy: 0.9827 - val_loss: 0.0625\n",
      "Epoch 15/15\n",
      "\u001b[1m11373/11373\u001b[0m \u001b[32m━━━━━━━━━━━━━━━━━━━━\u001b[0m\u001b[37m\u001b[0m \u001b[1m14s\u001b[0m 1ms/step - accuracy: 0.9781 - loss: 0.0693 - val_accuracy: 0.9827 - val_loss: 0.0594\n"
     ]
    }
   ],
   "source": [
    "history = ann_model.fit(X_train,y_train,epochs=15,validation_split=0.2,batch_size=32)"
   ]
  },
  {
   "cell_type": "code",
   "execution_count": 45,
   "id": "d2ffd6b9",
   "metadata": {
    "execution": {
     "iopub.execute_input": "2024-06-26T16:30:59.225064Z",
     "iopub.status.busy": "2024-06-26T16:30:59.224116Z",
     "iopub.status.idle": "2024-06-26T16:31:02.855271Z",
     "shell.execute_reply": "2024-06-26T16:31:02.854269Z"
    },
    "papermill": {
     "duration": 3.928208,
     "end_time": "2024-06-26T16:31:02.857325",
     "exception": false,
     "start_time": "2024-06-26T16:30:58.929117",
     "status": "completed"
    },
    "tags": []
   },
   "outputs": [
    {
     "name": "stdout",
     "output_type": "stream",
     "text": [
      "\u001b[1m3554/3554\u001b[0m \u001b[32m━━━━━━━━━━━━━━━━━━━━\u001b[0m\u001b[37m\u001b[0m \u001b[1m3s\u001b[0m 789us/step - accuracy: 0.9826 - loss: 0.0597\n"
     ]
    },
    {
     "data": {
      "text/plain": [
       "[0.05952611565589905, 0.9829766154289246]"
      ]
     },
     "execution_count": 45,
     "metadata": {},
     "output_type": "execute_result"
    }
   ],
   "source": [
    "ann_model.evaluate(X_test,y_test)"
   ]
  },
  {
   "cell_type": "code",
   "execution_count": 46,
   "id": "9827b466",
   "metadata": {
    "execution": {
     "iopub.execute_input": "2024-06-26T16:31:03.518886Z",
     "iopub.status.busy": "2024-06-26T16:31:03.518108Z",
     "iopub.status.idle": "2024-06-26T16:31:04.120444Z",
     "shell.execute_reply": "2024-06-26T16:31:04.119418Z"
    },
    "papermill": {
     "duration": 0.904573,
     "end_time": "2024-06-26T16:31:04.122717",
     "exception": false,
     "start_time": "2024-06-26T16:31:03.218144",
     "status": "completed"
    },
    "tags": []
   },
   "outputs": [
    {
     "data": {
      "image/png": "[encoded data removed]",
      "text/plain": [
       "<Figure size 1200x900 with 1 Axes>"
      ]
     },
     "metadata": {},
     "output_type": "display_data"
    },
    {
     "data": {
      "image/png": "[encoded data removed]",
      "text/plain": [
       "<Figure size 1200x900 with 1 Axes>"
      ]
     },
     "metadata": {},
     "output_type": "display_data"
    }
   ],
   "source": [
    "train_acc = history.history['accuracy']\n",
    "train_loss = history.history['loss']\n",
    "val_acc = history.history['val_accuracy']\n",
    "val_loss = history.history['val_loss']\n",
    "\n",
    "epochs = [i+1 for i in range(len(train_acc))]\n",
    "\n",
    "plt.figure(figsize=(12,9))\n",
    "plt.subplot(2,1,1)\n",
    "plt.plot(epochs,train_loss,'b',label=\"Train Loss\")\n",
    "plt.plot(epochs,val_loss,'g',label=\"Validation loss\")\n",
    "plt.title(\"Loss\")\n",
    "plt.legend()\n",
    "plt.xlabel('Epochs')\n",
    "plt.ylabel('Loss')\n",
    "\n",
    "plt.figure(figsize=(12,9))\n",
    "plt.subplot(2,1,1)\n",
    "plt.plot(epochs,train_acc,'b',label=\"Train Accuracy\")\n",
    "plt.plot(epochs,val_acc,'g',label=\"Validation Accuracy\")\n",
    "plt.title(\"Accuracy\")\n",
    "plt.legend()\n",
    "plt.xlabel('Epochs')\n",
    "plt.ylabel('Accuracy')\n",
    "\n",
    "plt.tight_layout()\n",
    "plt.show()"
   ]
  },
  {
   "cell_type": "code",
   "execution_count": 47,
   "id": "9d388741",
   "metadata": {
    "execution": {
     "iopub.execute_input": "2024-06-26T16:31:04.727729Z",
     "iopub.status.busy": "2024-06-26T16:31:04.726784Z",
     "iopub.status.idle": "2024-06-26T16:31:10.017947Z",
     "shell.execute_reply": "2024-06-26T16:31:10.016921Z"
    },
    "papermill": {
     "duration": 5.595621,
     "end_time": "2024-06-26T16:31:10.020233",
     "exception": false,
     "start_time": "2024-06-26T16:31:04.424612",
     "status": "completed"
    },
    "tags": []
   },
   "outputs": [
    {
     "name": "stdout",
     "output_type": "stream",
     "text": [
      "\u001b[1m3554/3554\u001b[0m \u001b[32m━━━━━━━━━━━━━━━━━━━━\u001b[0m\u001b[37m\u001b[0m \u001b[1m3s\u001b[0m 778us/step\n",
      "              precision    recall  f1-score   support\n",
      "\n",
      "           0       0.98      0.98      0.98     57030\n",
      "           1       0.98      0.98      0.98     56696\n",
      "\n",
      "    accuracy                           0.98    113726\n",
      "   macro avg       0.98      0.98      0.98    113726\n",
      "weighted avg       0.98      0.98      0.98    113726\n",
      "\n"
     ]
    }
   ],
   "source": [
    "y_predicted = ann_model.predict(X_test)\n",
    "y_predicted = (y_predicted>0.5)\n",
    "\n",
    "print(classification_report(y_test,y_predicted))"
   ]
  },
  {
   "cell_type": "code",
   "execution_count": 48,
   "id": "b0b3dd3e",
   "metadata": {
    "execution": {
     "iopub.execute_input": "2024-06-26T16:31:10.626610Z",
     "iopub.status.busy": "2024-06-26T16:31:10.626218Z",
     "iopub.status.idle": "2024-06-26T16:31:10.852321Z",
     "shell.execute_reply": "2024-06-26T16:31:10.851299Z"
    },
    "papermill": {
     "duration": 0.532348,
     "end_time": "2024-06-26T16:31:10.854576",
     "exception": false,
     "start_time": "2024-06-26T16:31:10.322228",
     "status": "completed"
    },
    "tags": []
   },
   "outputs": [
    {
     "data": {
      "image/png": "[encoded data removed]",
      "text/plain": [
       "<Figure size 640x480 with 2 Axes>"
      ]
     },
     "metadata": {},
     "output_type": "display_data"
    }
   ],
   "source": [
    "cm = confusion_matrix(y_test, y_predicted)\n",
    "sns.heatmap(cm, annot=True,fmt='d')\n",
    "plt.xlabel('Predicted')\n",
    "plt.ylabel('Truth')\n",
    "plt.title(\"ANN confusion matrix\")\n",
    "plt.show()"
   ]
  },
  {
   "cell_type": "code",
   "execution_count": 49,
   "id": "816fadaa",
   "metadata": {
    "execution": {
     "iopub.execute_input": "2024-06-26T16:31:11.521680Z",
     "iopub.status.busy": "2024-06-26T16:31:11.521292Z",
     "iopub.status.idle": "2024-06-26T16:31:11.564257Z",
     "shell.execute_reply": "2024-06-26T16:31:11.563220Z"
    },
    "papermill": {
     "duration": 0.348897,
     "end_time": "2024-06-26T16:31:11.566701",
     "exception": false,
     "start_time": "2024-06-26T16:31:11.217804",
     "status": "completed"
    },
    "tags": []
   },
   "outputs": [],
   "source": [
    "ann_model.save(\"credit_fruad_ANN_model.keras\")"
   ]
  }
 ],
 "metadata": {
  "kaggle": {
   "accelerator": "none",
   "dataSources": [
    {
     "datasetId": 310,
     "sourceId": 23498,
     "sourceType": "datasetVersion"
    }
   ],
   "dockerImageVersionId": 30732,
   "isGpuEnabled": false,
   "isInternetEnabled": true,
   "language": "python",
   "sourceType": "notebook"
  },
  "kernelspec": {
   "display_name": "Python 3",
   "language": "python",
   "name": "python3"
  },
  "language_info": {
   "codemirror_mode": {
    "name": "ipython",
    "version": 3
   },
   "file_extension": ".py",
   "mimetype": "text/x-python",
   "name": "python",
   "nbconvert_exporter": "python",
   "pygments_lexer": "ipython3",
   "version": "3.12.4"
  },
  "papermill": {
   "default_parameters": {},
   "duration": 303.49404,
   "end_time": "2024-06-26T16:31:14.204159",
   "environment_variables": {},
   "exception": null,
   "input_path": "__notebook__.ipynb",
   "output_path": "__notebook__.ipynb",
   "parameters": {},
   "start_time": "2024-06-26T16:26:10.710119",
   "version": "2.5.0"
  }
 },
 "nbformat": 4,
 "nbformat_minor": 5
}
